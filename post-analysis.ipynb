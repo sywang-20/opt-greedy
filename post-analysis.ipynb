{
 "cells": [
  {
   "cell_type": "code",
   "execution_count": 3,
   "id": "4792506c",
   "metadata": {},
   "outputs": [],
   "source": [
    "import os\n",
    "import pickle\n",
    "import numpy as np\n",
    "import networkx as nx\n",
    "import matplotlib.pyplot as plt\n",
    "import pandas as pd\n",
    "import seaborn as sns\n",
    "from shapely import wkt\n",
    "# from pygmo import hypervolume\n",
    "# import pygmo as pg\n",
    "# from pathlib2 import Path\n",
    "import geopandas as gpd\n",
    "# from scipy.optimize import curve_fit"
   ]
  },
  {
   "cell_type": "code",
   "execution_count": 4,
   "id": "e1d7786f",
   "metadata": {},
   "outputs": [
    {
     "name": "stdout",
     "output_type": "stream",
     "text": [
      "pre read\n"
     ]
    }
   ],
   "source": [
    "def pre_read():\n",
    "#     如果报错记得检查文件路径\n",
    "    print('pre read')\n",
    "    with open(\"./DATA/real_life_case_network/prepared/upstream_set.pkl\", \"rb\") as tf:\n",
    "        upstream_set = pickle.load(tf)\n",
    "    tf.close()\n",
    "    with open(\"./DATA/real_life_case_network/prepared/upstream_arr.pkl\", \"rb\") as tf:\n",
    "        upstream_arr = pickle.load(tf)\n",
    "    tf.close()\n",
    "    with open(\"./DATA/real_life_case_network/prepared/upstream_links_set.pkl\", \"rb\") as tf:\n",
    "        upstream_links_set = pickle.load(tf)\n",
    "    tf.close()\n",
    "\n",
    "    fn = './DATA/real_life_case_network/prepared/pipe_TM_clean_relabel.pkl'\n",
    "    relabeled_G = nx.read_gpickle(fn)\n",
    "\n",
    "    mapping_file = open('./DATA/real_life_case_network/prepared/label_mapping.pkl',\n",
    "                        'rb')  # 以二进制读模式（rb）打开pkl文件\n",
    "    data = pickle.load(mapping_file)  # 读取存储的pickle文件\n",
    "    pos_data = dict(zip(data.values(), data.keys()))\n",
    "\n",
    "    return upstream_arr, upstream_set,upstream_links_set, relabeled_G, pos_data\n",
    "upstream_arr, upstream_set,upstream_links_set, relabeled_G, pos_data = pre_read()\n",
    "\n",
    "def solution_to_objective_values(solution):\n",
    "    # extract objective values from solution\n",
    "    objective_values = []\n",
    "    objective_values.extend([individual[1:3] for individual in solution])\n",
    "    objective_values = np.array(objective_values)\n",
    "    return objective_values\n",
    "\n",
    "def cal_norm_para(min_max_df):\n",
    "    coverage_min=min_max_df['coverage'].min()\n",
    "    coverage_max=min_max_df['coverage'].max()\n",
    "    resolution_min=min_max_df['resolution'].min()\n",
    "    resolution_max=min_max_df['resolution'].max()\n",
    "    norm_params={'coverage':[coverage_min,coverage_max],\n",
    "            'resolution':[resolution_min,resolution_max]}\n",
    "    return norm_params\n",
    "\n",
    "def normalize(values, norm_params, col):\n",
    "    mini, maxi = norm_params[col]\n",
    "    return (values - mini)/(maxi - mini)\n",
    "\n",
    "ref_point=[1,1]"
   ]
  },
  {
   "cell_type": "markdown",
   "id": "71b9cfa0",
   "metadata": {},
   "source": [
    "# synthetic case"
   ]
  },
  {
   "cell_type": "code",
   "execution_count": null,
   "id": "77e196e1",
   "metadata": {},
   "outputs": [],
   "source": [
    "# read time.txt file,修改new_plans\n",
    "sizes=[100,500,1000,1500,2000,2500,3000]\n",
    "for size in sizes:\n",
    "    max_sensor=int(size/10)\n",
    "    path_new='.//TESTOUTPUT//synthetic_case//greedy_new//' + str(size) + '//0//' + 'max_sensor_' + str(max_sensor) + '_Lmax_20_new_plans_30//0//time.txt'\n",
    "    f=open(path_new,'r')\n",
    "    print(f.read())"
   ]
  },
  {
   "cell_type": "markdown",
   "id": "aed9b8c5",
   "metadata": {},
   "source": [
    "#### when OG cannot generate solution"
   ]
  },
  {
   "cell_type": "code",
   "execution_count": 4,
   "id": "92755364",
   "metadata": {},
   "outputs": [
    {
     "name": "stderr",
     "output_type": "stream",
     "text": [
      "<ipython-input-4-7a6c7545e462>:13: FutureWarning: The frame.append method is deprecated and will be removed from pandas in a future version. Use pandas.concat instead.\n",
      "  min_max_df=min_max_df.append(obj_new_df)\n",
      "<ipython-input-4-7a6c7545e462>:13: FutureWarning: The frame.append method is deprecated and will be removed from pandas in a future version. Use pandas.concat instead.\n",
      "  min_max_df=min_max_df.append(obj_new_df)\n",
      "<ipython-input-4-7a6c7545e462>:13: FutureWarning: The frame.append method is deprecated and will be removed from pandas in a future version. Use pandas.concat instead.\n",
      "  min_max_df=min_max_df.append(obj_new_df)\n",
      "<ipython-input-4-7a6c7545e462>:13: FutureWarning: The frame.append method is deprecated and will be removed from pandas in a future version. Use pandas.concat instead.\n",
      "  min_max_df=min_max_df.append(obj_new_df)\n",
      "<ipython-input-4-7a6c7545e462>:13: FutureWarning: The frame.append method is deprecated and will be removed from pandas in a future version. Use pandas.concat instead.\n",
      "  min_max_df=min_max_df.append(obj_new_df)\n",
      "<ipython-input-4-7a6c7545e462>:13: FutureWarning: The frame.append method is deprecated and will be removed from pandas in a future version. Use pandas.concat instead.\n",
      "  min_max_df=min_max_df.append(obj_new_df)\n"
     ]
    },
    {
     "data": {
      "text/plain": [
       "{'coverage': [-1500.0, -150.0], 'resolution': [0.0, 3.6186168530098466]}"
      ]
     },
     "execution_count": 4,
     "metadata": {},
     "output_type": "execute_result"
    }
   ],
   "source": [
    "# new greedy result to get the min_max_df, network size from 1500-3000\n",
    "min_max_df=pd.DataFrame(columns=['coverage','resolution'])\n",
    "new_plans_all=[5,10,15,20,25,30]\n",
    "size=1500\n",
    "max_sensor=int(size/10)\n",
    "for new_plans in new_plans_all:\n",
    "    path_new='.//TESTOUTPUT//synthetic_case//greedy_new//' + str(size) + '//0//' + 'max_sensor_' + str(max_sensor) + '_Lmax_20_new_plans_'+str(new_plans)+'//0//final_solution.pkl'\n",
    "    with open(path_new, 'rb') as f:\n",
    "        result_new = pickle.load(f)\n",
    "\n",
    "    obj_new=solution_to_objective_values(result_new)\n",
    "    obj_new_df=pd.DataFrame(obj_new, columns=['coverage', 'resolution'])\n",
    "    min_max_df=min_max_df.append(obj_new_df)\n",
    "\n",
    "norm_params=cal_norm_para(min_max_df)\n",
    "norm_params\n"
   ]
  },
  {
   "cell_type": "code",
   "execution_count": 7,
   "id": "5517622e",
   "metadata": {},
   "outputs": [
    {
     "name": "stdout",
     "output_type": "stream",
     "text": [
      "new_plans: 5 hv: 0.14496039639724717\n",
      "HV for new greedy with 5 new plans generated and network size of 1500 is 0.145.\n",
      "new_plans: 10 hv: 0.24290778563718432\n",
      "HV for new greedy with 10 new plans generated and network size of 1500 is 0.243.\n",
      "new_plans: 15 hv: 0.2468964382636871\n",
      "HV for new greedy with 15 new plans generated and network size of 1500 is 0.247.\n",
      "new_plans: 20 hv: 0.25529269144509176\n",
      "HV for new greedy with 20 new plans generated and network size of 1500 is 0.255.\n",
      "new_plans: 25 hv: 0.26670018126477113\n",
      "HV for new greedy with 25 new plans generated and network size of 1500 is 0.267.\n",
      "new_plans: 30 hv: 0.2600714149373262\n",
      "HV for new greedy with 30 new plans generated and network size of 1500 is 0.26.\n"
     ]
    }
   ],
   "source": [
    "for new_plans in new_plans_all:\n",
    "    path_new='.//TESTOUTPUT//synthetic_case//greedy_new//' + str(size) + '//0//' + 'max_sensor_' + str(max_sensor) + '_Lmax_20_new_plans_'+str(new_plans)+'//0//final_solution.pkl'\n",
    "    with open(path_new, 'rb') as f:\n",
    "        result_new = pickle.load(f)\n",
    "    obj_new=solution_to_objective_values(result_new)\n",
    "    obj_norm=obj_new.copy()  # obj should be array\n",
    "    for i in range(2):\n",
    "        obj_norm[:,i]=normalize(obj_new[:,i], norm_params, ['coverage', 'resolution'][i])\n",
    "    hv=pg.hypervolume(obj_norm).compute(ref_point)\n",
    "    print('new_plans:', new_plans, 'hv:', hv)\n",
    "    print('HV for new greedy with {} new plans generated and network size of {} is {}.'.format(new_plans, size,round(hv,3)))"
   ]
  },
  {
   "cell_type": "markdown",
   "id": "d46dabcb",
   "metadata": {},
   "source": [
    "#### when OG can generaete solution"
   ]
  },
  {
   "cell_type": "code",
   "execution_count": 182,
   "id": "30709f7d",
   "metadata": {},
   "outputs": [
    {
     "name": "stderr",
     "output_type": "stream",
     "text": [
      "<ipython-input-182-2e7195fbc5b2>:13: FutureWarning: The frame.append method is deprecated and will be removed from pandas in a future version. Use pandas.concat instead.\n",
      "  min_max_df=min_max_df.append(obj_new_df)\n",
      "<ipython-input-182-2e7195fbc5b2>:13: FutureWarning: The frame.append method is deprecated and will be removed from pandas in a future version. Use pandas.concat instead.\n",
      "  min_max_df=min_max_df.append(obj_new_df)\n",
      "<ipython-input-182-2e7195fbc5b2>:13: FutureWarning: The frame.append method is deprecated and will be removed from pandas in a future version. Use pandas.concat instead.\n",
      "  min_max_df=min_max_df.append(obj_new_df)\n",
      "<ipython-input-182-2e7195fbc5b2>:13: FutureWarning: The frame.append method is deprecated and will be removed from pandas in a future version. Use pandas.concat instead.\n",
      "  min_max_df=min_max_df.append(obj_new_df)\n",
      "<ipython-input-182-2e7195fbc5b2>:13: FutureWarning: The frame.append method is deprecated and will be removed from pandas in a future version. Use pandas.concat instead.\n",
      "  min_max_df=min_max_df.append(obj_new_df)\n",
      "<ipython-input-182-2e7195fbc5b2>:13: FutureWarning: The frame.append method is deprecated and will be removed from pandas in a future version. Use pandas.concat instead.\n",
      "  min_max_df=min_max_df.append(obj_new_df)\n",
      "<ipython-input-182-2e7195fbc5b2>:24: FutureWarning: The frame.append method is deprecated and will be removed from pandas in a future version. Use pandas.concat instead.\n",
      "  min_max_df=min_max_df.append(obj_original_df)\n"
     ]
    },
    {
     "data": {
      "text/plain": [
       "{'coverage': [-1000.0, -100.0], 'resolution': [0.0, 3.593045742364111]}"
      ]
     },
     "execution_count": 182,
     "metadata": {},
     "output_type": "execute_result"
    }
   ],
   "source": [
    "# network size : 100, 500, 1000\n",
    "min_max_df=pd.DataFrame(columns=['coverage','resolution'])\n",
    "new_plans_all=[5,10,15,20,25,30]\n",
    "size=1000\n",
    "max_sensor=int(size/10)\n",
    "for new_plans in new_plans_all:   \n",
    "    path_new='.//TESTOUTPUT//synthetic_case//greedy_new//' + str(size) + '//0//' + 'max_sensor_' + str(max_sensor) + '_Lmax_20_new_plans_'+str(new_plans)+'//0//final_solution.pkl'\n",
    "    with open(path_new, 'rb') as f:\n",
    "        result_new = pickle.load(f)\n",
    "\n",
    "    obj_new=solution_to_objective_values(result_new)\n",
    "    obj_new_df=pd.DataFrame(obj_new, columns=['coverage', 'resolution'])\n",
    "    min_max_df=min_max_df.append(obj_new_df)\n",
    "\n",
    "path_original='.//TESTOUTPUT//synthetic_case//greedy_original//'+str(size)+'//0//'+'max_sensor_' + str(max_sensor) + '_Lmax_20'+'//0//solution.pkl'\n",
    "with open(path_original, 'rb') as f:\n",
    "    greedy_original = pickle.load(f)\n",
    "\n",
    "n=len(greedy_original)\n",
    "result_original=greedy_original[n-1]\n",
    "\n",
    "obj_original=solution_to_objective_values(result_original)\n",
    "obj_original_df=pd.DataFrame(obj_original, columns=['coverage', 'resolution'])\n",
    "min_max_df=min_max_df.append(obj_original_df)\n",
    "\n",
    "norm_params=cal_norm_para(min_max_df)\n",
    "norm_params"
   ]
  },
  {
   "cell_type": "code",
   "execution_count": 183,
   "id": "cb3bbe94",
   "metadata": {},
   "outputs": [
    {
     "name": "stdout",
     "output_type": "stream",
     "text": [
      "new_plans: 5 hv: 0.20508730520278268\n",
      "HV for new greedy with 5 new plans generated and network size of 1000 is 0.205.\n",
      "new_plans: 10 hv: 0.22143105002587943\n",
      "HV for new greedy with 10 new plans generated and network size of 1000 is 0.221.\n",
      "new_plans: 15 hv: 0.22303985992181358\n",
      "HV for new greedy with 15 new plans generated and network size of 1000 is 0.223.\n",
      "new_plans: 20 hv: 0.24273642929226807\n",
      "HV for new greedy with 20 new plans generated and network size of 1000 is 0.243.\n",
      "new_plans: 25 hv: 0.24824718373867094\n",
      "HV for new greedy with 25 new plans generated and network size of 1000 is 0.248.\n",
      "new_plans: 30 hv: 0.2519951460650752\n",
      "HV for new greedy with 30 new plans generated and network size of 1000 is 0.252.\n",
      "HV for original greedy with network size of 1000 is 0.296.\n"
     ]
    }
   ],
   "source": [
    "for new_plans in new_plans_all:\n",
    "    max_sensor=int(size/10)\n",
    "    path_new='.//TESTOUTPUT//synthetic_case//greedy_new//' + str(size) + '//0//' + 'max_sensor_' + str(max_sensor) + '_Lmax_20_new_plans_'+str(new_plans)+'//0//final_solution.pkl'\n",
    "    with open(path_new, 'rb') as f:\n",
    "        result_new = pickle.load(f)\n",
    "    obj_new=solution_to_objective_values(result_new)\n",
    "    obj_norm=obj_new.copy()  # obj should be array\n",
    "    for i in range(2):\n",
    "        obj_norm[:,i]=normalize(obj_new[:,i], norm_params, ['coverage', 'resolution'][i])\n",
    "    hv=pg.hypervolume(obj_norm).compute(ref_point)\n",
    "    print('new_plans:', new_plans, 'hv:', hv)\n",
    "    print('HV for new greedy with {} new plans generated and network size of {} is {}.'.format(new_plans, size,round(hv,3)))\n",
    "\n",
    "obj_norm=obj_original.copy()  # obj should be array\n",
    "for i in range(2):\n",
    "    obj_norm[:,i]=normalize(obj_original[:,i], norm_params, ['coverage', 'resolution'][i])\n",
    "hv=pg.hypervolume(obj_norm).compute(ref_point)\n",
    "print('HV for original greedy with network size of {} is {}.'.format(size,round(hv,3)))"
   ]
  },
  {
   "cell_type": "markdown",
   "id": "065e2cd6",
   "metadata": {},
   "source": [
    "# real-world case"
   ]
  },
  {
   "cell_type": "markdown",
   "id": "561690bb",
   "metadata": {},
   "source": [
    "#### time and HV"
   ]
  },
  {
   "cell_type": "code",
   "execution_count": 31,
   "id": "3b3b1f61",
   "metadata": {},
   "outputs": [
    {
     "name": "stdout",
     "output_type": "stream",
     "text": [
      "27.58572220802307\n",
      "64.55658888816833\n",
      "116.71444535255432\n",
      "172.19359970092773\n",
      "261.4512119293213\n",
      "309.93577122688293\n"
     ]
    }
   ],
   "source": [
    "# 时间\n",
    "new_plans_all=[5,10,15,20,25,30]\n",
    "for new_plans in new_plans_all:\n",
    "    path='.//TESTOUTPUT//real_case//greedy_new//max_sensor_100' + '_Lmax_20_new_plans_'+str(new_plans)+'//0//time.txt'\n",
    "    f=open(path,'r')\n",
    "    print(f.read())"
   ]
  },
  {
   "cell_type": "code",
   "execution_count": 14,
   "id": "24b4e1dd",
   "metadata": {},
   "outputs": [
    {
     "name": "stderr",
     "output_type": "stream",
     "text": [
      "<ipython-input-14-7325410f3266>:12: FutureWarning: The frame.append method is deprecated and will be removed from pandas in a future version. Use pandas.concat instead.\n",
      "  min_max_df=min_max_df.append(obj_df)\n",
      "<ipython-input-14-7325410f3266>:12: FutureWarning: The frame.append method is deprecated and will be removed from pandas in a future version. Use pandas.concat instead.\n",
      "  min_max_df=min_max_df.append(obj_df)\n",
      "<ipython-input-14-7325410f3266>:12: FutureWarning: The frame.append method is deprecated and will be removed from pandas in a future version. Use pandas.concat instead.\n",
      "  min_max_df=min_max_df.append(obj_df)\n",
      "<ipython-input-14-7325410f3266>:12: FutureWarning: The frame.append method is deprecated and will be removed from pandas in a future version. Use pandas.concat instead.\n",
      "  min_max_df=min_max_df.append(obj_df)\n",
      "<ipython-input-14-7325410f3266>:12: FutureWarning: The frame.append method is deprecated and will be removed from pandas in a future version. Use pandas.concat instead.\n",
      "  min_max_df=min_max_df.append(obj_df)\n",
      "<ipython-input-14-7325410f3266>:12: FutureWarning: The frame.append method is deprecated and will be removed from pandas in a future version. Use pandas.concat instead.\n",
      "  min_max_df=min_max_df.append(obj_df)\n"
     ]
    },
    {
     "data": {
      "text/plain": [
       "{'coverage': [-4212.0, -100.0], 'resolution': [0.0, 6.548031019096646]}"
      ]
     },
     "execution_count": 14,
     "metadata": {},
     "output_type": "execute_result"
    }
   ],
   "source": [
    "# HV\n",
    "min_max_df=pd.DataFrame(columns=['coverage','resolution'])\n",
    "new_plans_all=[5,10,15,20,25,30]\n",
    "\n",
    "for new_plans in new_plans_all:\n",
    "    path='.//TESTOUTPUT//real_case//greedy_new//max_sensor_100' + '_Lmax_20_new_plans_'+str(new_plans)+'//0//final_solution.pkl'\n",
    "    with open(path, 'rb') as f:\n",
    "        result = pickle.load(f)\n",
    "\n",
    "    obj=solution_to_objective_values(result)\n",
    "    obj_df=pd.DataFrame(obj, columns=['coverage', 'resolution'])\n",
    "    min_max_df=min_max_df.append(obj_df)\n",
    "\n",
    "norm_params=cal_norm_para(min_max_df)\n",
    "norm_params"
   ]
  },
  {
   "cell_type": "code",
   "execution_count": 15,
   "id": "99b825fd",
   "metadata": {},
   "outputs": [
    {
     "name": "stdout",
     "output_type": "stream",
     "text": [
      "new_plans: 5 hv: 0.189\n",
      "new_plans: 10 hv: 0.24\n",
      "new_plans: 15 hv: 0.273\n",
      "new_plans: 20 hv: 0.26\n",
      "new_plans: 25 hv: 0.281\n",
      "new_plans: 30 hv: 0.273\n"
     ]
    }
   ],
   "source": [
    "for new_plans in new_plans_all:\n",
    "    path='.//TESTOUTPUT//real_case//greedy_new//max_sensor_100' + '_Lmax_20_new_plans_'+str(new_plans)+'//0//final_solution.pkl'\n",
    "    with open(path, 'rb') as f:\n",
    "        result = pickle.load(f)\n",
    "    obj=solution_to_objective_values(result)\n",
    "    obj_norm=obj.copy()  # obj should be array\n",
    "    for i in range(2):\n",
    "        obj_norm[:,i]=normalize(obj[:,i], norm_params, ['coverage', 'resolution'][i])\n",
    "    hv=pg.hypervolume(obj_norm).compute(ref_point)\n",
    "    print('new_plans:', new_plans, 'hv:', round(hv,3))\n",
    "    # print('HV for new greedy with {} new plans generated and network size of {} is {}.'.format(new_plans, size,round(hv,3)))"
   ]
  },
  {
   "cell_type": "markdown",
   "id": "cfcf566b",
   "metadata": {},
   "source": [
    "#### pareto front"
   ]
  },
  {
   "cell_type": "code",
   "execution_count": 5,
   "id": "e973c4b0",
   "metadata": {},
   "outputs": [],
   "source": [
    "# 读取数据\n",
    "path='.//TESTOUTPUT//real_case//greedy_new//max_sensor_100_Lmax_20_new_plans_25//0//final_solution.pkl'\n",
    "with open(path,'rb') as f:\n",
    "    data=pickle.load(f)"
   ]
  },
  {
   "cell_type": "code",
   "execution_count": 6,
   "id": "2987a1bb",
   "metadata": {},
   "outputs": [],
   "source": [
    "obj=solution_to_objective_values(data)\n",
    "obj_df=pd.DataFrame(obj,columns=['coverage','resolution'])"
   ]
  },
  {
   "cell_type": "code",
   "execution_count": 59,
   "id": "b921d8ed",
   "metadata": {},
   "outputs": [
    {
     "data": {
      "image/png": "[encoded data removed]",
      "text/plain": [
       "<Figure size 640x480 with 1 Axes>"
      ]
     },
     "metadata": {},
     "output_type": "display_data"
    }
   ],
   "source": [
    "# cost-effective plot, x-axis is coverage, y-axis is resolution\n",
    "plt.scatter(-obj_df['coverage'], obj_df['resolution'])\n",
    "plt.xlabel('Coverage')\n",
    "plt.ylabel('Resolution')\n",
    "plt.title('Scatter Plot')\n",
    "plt.show()"
   ]
  },
  {
   "cell_type": "markdown",
   "id": "fbfe9f2c",
   "metadata": {},
   "source": [
    "#### select one solution：coverage最大"
   ]
  },
  {
   "cell_type": "code",
   "execution_count": 7,
   "id": "be16e67e",
   "metadata": {},
   "outputs": [],
   "source": [
    "coverage=int(obj_df['coverage'].min())"
   ]
  },
  {
   "cell_type": "code",
   "execution_count": 8,
   "id": "e358a9c9",
   "metadata": {},
   "outputs": [],
   "source": [
    "for ind in data:\n",
    "    if ind[1]==coverage:\n",
    "        sol_example=ind"
   ]
  },
  {
   "cell_type": "code",
   "execution_count": 64,
   "id": "6a76a351",
   "metadata": {},
   "outputs": [
    {
     "data": {
      "text/plain": [
       "[100,\n",
       " -4187,\n",
       " 6.548031019096646,\n",
       " [27,\n",
       "  37,\n",
       "  41,\n",
       "  45,\n",
       "  53,\n",
       "  77,\n",
       "  95,\n",
       "  147,\n",
       "  153,\n",
       "  161,\n",
       "  271,\n",
       "  278,\n",
       "  285,\n",
       "  305,\n",
       "  358,\n",
       "  377,\n",
       "  382,\n",
       "  443,\n",
       "  464,\n",
       "  502,\n",
       "  636,\n",
       "  665,\n",
       "  831,\n",
       "  848,\n",
       "  864,\n",
       "  1033,\n",
       "  1163,\n",
       "  1164,\n",
       "  1237,\n",
       "  1320,\n",
       "  1400,\n",
       "  1401,\n",
       "  1418,\n",
       "  1451,\n",
       "  1458,\n",
       "  1511,\n",
       "  1517,\n",
       "  1529,\n",
       "  1572,\n",
       "  1639,\n",
       "  1697,\n",
       "  1946,\n",
       "  2009,\n",
       "  2010,\n",
       "  2015,\n",
       "  2052,\n",
       "  2118,\n",
       "  2120,\n",
       "  2129,\n",
       "  2130,\n",
       "  2197,\n",
       "  2294,\n",
       "  2312,\n",
       "  2344,\n",
       "  2409,\n",
       "  2440,\n",
       "  2501,\n",
       "  2525,\n",
       "  2589,\n",
       "  2622,\n",
       "  2644,\n",
       "  2646,\n",
       "  2684,\n",
       "  2694,\n",
       "  2757,\n",
       "  2813,\n",
       "  2830,\n",
       "  2936,\n",
       "  2975,\n",
       "  3087,\n",
       "  3097,\n",
       "  3156,\n",
       "  3179,\n",
       "  3214,\n",
       "  3364,\n",
       "  3370,\n",
       "  3372,\n",
       "  3389,\n",
       "  3391,\n",
       "  3419,\n",
       "  3594,\n",
       "  3661,\n",
       "  3681,\n",
       "  3710,\n",
       "  3719,\n",
       "  3766,\n",
       "  3844,\n",
       "  3917,\n",
       "  3918,\n",
       "  3934,\n",
       "  3971,\n",
       "  3986,\n",
       "  4004,\n",
       "  4047,\n",
       "  4146,\n",
       "  4229,\n",
       "  4236,\n",
       "  4299,\n",
       "  4321,\n",
       "  4368]]"
      ]
     },
     "execution_count": 64,
     "metadata": {},
     "output_type": "execute_result"
    }
   ],
   "source": [
    "sol_example"
   ]
  },
  {
   "cell_type": "code",
   "execution_count": 9,
   "id": "ef1fbbc7",
   "metadata": {},
   "outputs": [],
   "source": [
    "# 提取安置sensor的manhole\n",
    "# 所有manhole的node\n",
    "manhole=list(range(0, len(upstream_set)))\n",
    "# 所有manhole标记都为0\n",
    "mark=[0]*len(upstream_set)\n",
    "\n",
    "# 提取出此solution中放置了sensor的manhole\n",
    "sensor=sol_example[3]\n",
    "# 对于被放置sensor的manhole，标记变为1\n",
    "for node in sensor:\n",
    "    mark[node]=1\n",
    "\n",
    "# 将node与其标记连起来，形成一个dictionary\n",
    "sensor_dictionary =  dict(zip(manhole, mark))"
   ]
  },
  {
   "cell_type": "code",
   "execution_count": 10,
   "id": "f5e0ae21",
   "metadata": {},
   "outputs": [],
   "source": [
    "# 提取被cover的manhole，记录每个node被cover的次数\n",
    "covered_node=[]\n",
    "covered_times=[0]*len(upstream_set)\n",
    "for node in sensor:\n",
    "    covered_set=upstream_set[node]\n",
    "    for j in covered_set:\n",
    "        if j in covered_node:\n",
    "            covered_times[j]+=1\n",
    "        else:\n",
    "            covered_times[j]=1\n",
    "            covered_node.append(j)\n",
    "# 将node与它被cover的次数连起来，形成一个dictionary\n",
    "covered_node_dictionary =  dict(zip(manhole, covered_times))"
   ]
  },
  {
   "cell_type": "code",
   "execution_count": 11,
   "id": "aaf5a1e0",
   "metadata": {},
   "outputs": [],
   "source": [
    "# 给每个node加上是否被cover、被cover的次数、以及坐标\n",
    "nx.set_node_attributes(relabeled_G,sensor_dictionary, \"whether-selected\")\n",
    "nx.set_node_attributes(relabeled_G,covered_node_dictionary,'covered_times')\n",
    "nx.set_node_attributes(relabeled_G,pos_data, \"coordinate\")"
   ]
  },
  {
   "cell_type": "code",
   "execution_count": 12,
   "id": "65492675",
   "metadata": {},
   "outputs": [],
   "source": [
    "# 将node、选中次数、经纬度分别读取，成为list\n",
    "node=[]\n",
    "whether_covered=[]\n",
    "covered_times=[]\n",
    "coordinate=[]\n",
    "for i in range(4394):\n",
    "    node.append(i)\n",
    "    whether_covered.append(relabeled_G.nodes[i]['whether-selected'])\n",
    "    covered_times.append(relabeled_G.nodes[i]['covered_times'])\n",
    "    coordinate.append(relabeled_G.nodes[i]['coordinate'])\n",
    "    #print(relabeled_G.nodes[i])\n",
    "\n",
    "# list转化为dataframe\n",
    "node=pd.DataFrame(node,columns=['node'])\n",
    "whether_covered=pd.DataFrame(whether_covered,columns=['whether_selected'])\n",
    "covered_times=pd.DataFrame(covered_times,columns=['covered_times'])\n",
    "coordinate=pd.DataFrame(coordinate,columns=['lon','lat'])\n",
    "\n",
    "# 合并dataframe\n",
    "final=pd.concat([node,whether_covered,covered_times,coordinate],axis=1)"
   ]
  },
  {
   "cell_type": "code",
   "execution_count": 13,
   "id": "0c595798",
   "metadata": {},
   "outputs": [
    {
     "name": "stderr",
     "output_type": "stream",
     "text": [
      "C:\\Users\\user\\AppData\\Local\\Temp\\ipykernel_11824\\1296078080.py:4: UserWarning: Column names longer than 10 characters will be truncated when saved to ESRI Shapefile.\n",
      "  gdf.to_file('./post-analysis-result/example-viz-data/node-max-coverage.shp')\n"
     ]
    }
   ],
   "source": [
    "gdf = gpd.GeoDataFrame(\n",
    "    final, geometry=gpd.points_from_xy(final.lon,final.lat))\n",
    "gdf.set_crs('epsg:2326')\n",
    "gdf.to_file('./post-analysis-result/example-viz-data/node-max-coverage.shp')"
   ]
  },
  {
   "cell_type": "code",
   "execution_count": 14,
   "id": "d37188d4",
   "metadata": {},
   "outputs": [],
   "source": [
    "# 提取被cover的edge以及每条edge被cover的次数\n",
    "covered_edge={}\n",
    "for node in sensor:\n",
    "    covered_link_set=upstream_links_set[node] # 提取sensor上游的link\n",
    "    for j in covered_link_set:  # 对cover的link遍历\n",
    "        if j in covered_edge.keys():   # 已经存在，value+1\n",
    "            covered_edge[j]+=1\n",
    "        else:  # 不存在，加入且value=1\n",
    "            covered_edge[j]=1\n",
    "\n",
    "# 将边被cover的次数赋给每个edge\n",
    "nx.set_edge_attributes(relabeled_G,covered_edge,'covered_times')\n",
    "\n",
    "# 转化为dataframe\n",
    "test=nx.to_pandas_edgelist(relabeled_G)\n",
    "# 将没有被cover到的edge对应的covered_times设置为0\n",
    "test=test.fillna(0)"
   ]
  },
  {
   "cell_type": "code",
   "execution_count": 15,
   "id": "a3f10f32",
   "metadata": {},
   "outputs": [
    {
     "name": "stderr",
     "output_type": "stream",
     "text": [
      "C:\\Users\\user\\AppData\\Local\\Temp\\ipykernel_11824\\4083976260.py:8: UserWarning: Column names longer than 10 characters will be truncated when saved to ESRI Shapefile.\n",
      "  gdf.to_file('./post-analysis-result/example-viz-data/edge-max-coverage.shp')\n"
     ]
    }
   ],
   "source": [
    "# 设置geometry\n",
    "test['geom'] = test['Wkt'].apply(wkt.loads)\n",
    "gdf = gpd.GeoDataFrame(test, geometry='geom')\n",
    "# 无关的列直接去掉\n",
    "gdf=gdf[['source','target','covered_times','geom']]\n",
    "# 设置坐标\n",
    "gdf=gdf.set_crs('epsg:2326')\n",
    "gdf.to_file('./post-analysis-result/example-viz-data/edge-max-coverage.shp')"
   ]
  },
  {
   "cell_type": "markdown",
   "metadata": {},
   "source": [
    "### not used"
   ]
  },
  {
   "cell_type": "code",
   "execution_count": null,
   "id": "694a4a99",
   "metadata": {},
   "outputs": [],
   "source": [
    "\n",
    "def HV_comparison(obj_new, obj_original):\n",
    "    obj_new_df = pd.DataFrame(obj_new, columns=['coverage', 'resolution'])\n",
    "    obj_original_df = pd.DataFrame(obj_original, columns=['coverage', 'resolution'])\n",
    "\n",
    "    def cal_norm_para(obj_new_df, obj_original_df):\n",
    "        min_max_df=pd.concat([obj_new_df, obj_original_df], ignore_index=True)\n",
    "        coverage_min=min_max_df['coverage'].min()\n",
    "        coverage_max=min_max_df['coverage'].max()\n",
    "        resolution_min=min_max_df['resolution'].min()\n",
    "        resolution_max=min_max_df['resolution'].max()\n",
    "        norm_params={'coverage':[coverage_min,coverage_max],\n",
    "               'resolution':[resolution_min,resolution_max]}\n",
    "        return norm_params\n",
    "\n",
    "    def normalize(values, norm_params, col):\n",
    "        mini, maxi = norm_params[col]\n",
    "        return (values - mini)/(maxi - mini)\n",
    "\n",
    "    norm_params=cal_norm_para(obj_new_df, obj_original_df)\n",
    "\n",
    "    def cal_HV(obj):\n",
    "        ref_point=[1,1]\n",
    "        obj_norm=obj.copy()  # obj should be array\n",
    "        for i in range(2):\n",
    "            obj_norm[:,i]=normalize(obj[:,i], norm_params, ['coverage', 'resolution'][i])\n",
    "        hv=pg.hypervolume(obj_norm).compute(ref_point)\n",
    "        return hv\n",
    "    \n",
    "    hv_new=cal_HV(obj_new)\n",
    "    hv_original=cal_HV(obj_original)\n",
    "    print('hv_new:', hv_new)\n",
    "    print('hv_original:', hv_original)\n",
    "\n",
    "    return hv_new, hv_original\n"
   ]
  }
 ],
 "metadata": {
  "kernelspec": {
   "display_name": "urbsim",
   "language": "python",
   "name": "python3"
  },
  "language_info": {
   "codemirror_mode": {
    "name": "ipython",
    "version": 3
   },
   "file_extension": ".py",
   "mimetype": "text/x-python",
   "name": "python",
   "nbconvert_exporter": "python",
   "pygments_lexer": "ipython3",
   "version": "3.9.18"
  }
 },
 "nbformat": 4,
 "nbformat_minor": 5
}
