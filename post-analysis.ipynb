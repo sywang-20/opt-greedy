{
 "cells": [
  {
   "cell_type": "code",
   "execution_count": 1,
   "id": "4792506c",
   "metadata": {},
   "outputs": [
    {
     "name": "stderr",
     "output_type": "stream",
     "text": [
      "e:\\programming\\anaconda\\envs\\urbsim\\lib\\site-packages\\numpy\\_distributor_init.py:30: UserWarning: loaded more than 1 DLL from .libs:\n",
      "e:\\programming\\anaconda\\envs\\urbsim\\lib\\site-packages\\numpy\\.libs\\libopenblas.EL2C6PLE4ZYW3ECEVIV3OXXGRN2NRFM2.gfortran-win_amd64.dll\n",
      "e:\\programming\\anaconda\\envs\\urbsim\\lib\\site-packages\\numpy\\.libs\\libopenblas.FB5AE2TYXYH2IJRDKGDGQ3XBKLKTF43H.gfortran-win_amd64.dll\n",
      "e:\\programming\\anaconda\\envs\\urbsim\\lib\\site-packages\\numpy\\.libs\\libopenblas64__v0.3.21-gcc_10_3_0.dll\n",
      "  warnings.warn(\"loaded more than 1 DLL from .libs:\"\n",
      "e:\\programming\\anaconda\\envs\\urbsim\\lib\\site-packages\\scipy\\__init__.py:146: UserWarning: A NumPy version >=1.16.5 and <1.23.0 is required for this version of SciPy (detected version 1.23.5\n",
      "  warnings.warn(f\"A NumPy version >={np_minversion} and <{np_maxversion}\"\n"
     ]
    }
   ],
   "source": [
    "import os\n",
    "import pickle\n",
    "import numpy as np\n",
    "import networkx as nx\n",
    "import matplotlib.pyplot as plt\n",
    "import pandas as pd\n",
    "import seaborn as sns\n",
    "from shapely import wkt\n",
    "from pygmo import hypervolume\n",
    "import pygmo as pg\n",
    "from pathlib2 import Path\n",
    "import geopandas as gpd\n",
    "# from scipy.optimize import curve_fit"
   ]
  },
  {
   "cell_type": "code",
   "execution_count": 2,
   "id": "e1d7786f",
   "metadata": {},
   "outputs": [
    {
     "name": "stdout",
     "output_type": "stream",
     "text": [
      "pre read\n"
     ]
    }
   ],
   "source": [
    "def pre_read():\n",
    "#     如果报错记得检查文件路径\n",
    "    print('pre read')\n",
    "    with open(\"./DATA/real_life_case_network/prepared/upstream_set.pkl\", \"rb\") as tf:\n",
    "        upstream_set = pickle.load(tf)\n",
    "    tf.close()\n",
    "    with open(\"./DATA/real_life_case_network/prepared/upstream_arr.pkl\", \"rb\") as tf:\n",
    "        upstream_arr = pickle.load(tf)\n",
    "    tf.close()\n",
    "    with open(\"./DATA/real_life_case_network/prepared/upstream_links_set.pkl\", \"rb\") as tf:\n",
    "        upstream_links_set = pickle.load(tf)\n",
    "    tf.close()\n",
    "\n",
    "    fn = './DATA/real_life_case_network/prepared/pipe_TM_clean_relabel.pkl'\n",
    "    relabeled_G = nx.read_gpickle(fn)\n",
    "\n",
    "    mapping_file = open('./DATA/real_life_case_network/prepared/label_mapping.pkl',\n",
    "                        'rb')  # 以二进制读模式（rb）打开pkl文件\n",
    "    data = pickle.load(mapping_file)  # 读取存储的pickle文件\n",
    "    pos_data = dict(zip(data.values(), data.keys()))\n",
    "\n",
    "    return upstream_arr, upstream_set,upstream_links_set, relabeled_G, pos_data\n",
    "upstream_arr, upstream_set,upstream_links_set, relabeled_G, pos_data = pre_read()\n",
    "\n",
    "def solution_to_objective_values(solution):\n",
    "    # extract objective values from solution\n",
    "    objective_values = []\n",
    "    objective_values.extend([individual[1:3] for individual in solution])\n",
    "    objective_values = np.array(objective_values)\n",
    "    return objective_values\n",
    "\n",
    "def cal_norm_para(min_max_df):\n",
    "    coverage_min=min_max_df['coverage'].min()\n",
    "    coverage_max=min_max_df['coverage'].max()\n",
    "    resolution_min=min_max_df['resolution'].min()\n",
    "    resolution_max=min_max_df['resolution'].max()\n",
    "    norm_params={'coverage':[coverage_min,coverage_max],\n",
    "            'resolution':[resolution_min,resolution_max]}\n",
    "    return norm_params\n",
    "\n",
    "def normalize(values, norm_params, col):\n",
    "    mini, maxi = norm_params[col]\n",
    "    return (values - mini)/(maxi - mini)\n",
    "\n",
    "ref_point=[1,1]"
   ]
  },
  {
   "cell_type": "code",
   "execution_count": 18,
   "id": "77af8e7a",
   "metadata": {},
   "outputs": [
    {
     "data": {
      "text/plain": [
       "{0: [[1, -1, 0.0, [65]],\n",
       "  [1, -1, 0.0, [40]],\n",
       "  [1, -98, 6.614709844115209, [2]],\n",
       "  [1, -59, 5.882643049361842, [21]],\n",
       "  [1, -36, 5.169925001442312, [25]],\n",
       "  [1, -77, 6.266786540694902, [5]],\n",
       "  [1, -19, 4.247927513443585, [34]],\n",
       "  [1, -28, 4.807354922057604, [32]],\n",
       "  [1, -2, 1.0, [39]],\n",
       "  [1, -13, 3.7004397181410917, [63]],\n",
       "  [1, -10, 3.3219280948873626, [83]],\n",
       "  [1, -2, 1.0, [74]],\n",
       "  [1, -3, 1.5849625007211563, [50]],\n",
       "  [1, -7, 2.807354922057604, [43]],\n",
       "  [1, -73, 6.189824558880018, [7]],\n",
       "  [1, -15, 3.9068905956085187, [38]],\n",
       "  [1, -3, 1.5849625007211563, [96]],\n",
       "  [1, -4, 2.0, [68]],\n",
       "  [1, -31, 4.954196310386876, [29]],\n",
       "  [1, -9, 3.1699250014423126, [84]]],\n",
       " 1: [[2, -2, 0.0, [65, 75]],\n",
       "  [2, -100, 5.788405379214593, [0, 32]],\n",
       "  [2, -59, 4.899493921133554, [21, 27]],\n",
       "  [2, -44, 4.583768226314258, [29, 63]],\n",
       "  [2, -89, 5.553737727871958, [4, 21]],\n",
       "  [2, -37, 4.209980345442966, [34, 62]],\n",
       "  [2, -70, 5.129871952206211, [10, 25]],\n",
       "  [2, -4, 1.1887218755408673, [65, 96]],\n",
       "  [2, -76, 5.531293901650841, [6, 38]],\n",
       "  [2, -29, 3.9644098934733814, [33, 84]],\n",
       "  [2, -6, 1.5849625007211563, [47, 96]],\n",
       "  [2, -15, 2.9885947615540287, [67, 83]],\n",
       "  [2, -73, 5.513960987292402, [7, 20]],\n",
       "  [2, -3, 0.6666666666666666, [65, 70]],\n",
       "  [2, -7, 1.8221267860233525, [50, 56]],\n",
       "  [2, -21, 3.5291968542121293, [38, 87]],\n",
       "  [2, -26, 3.717581028428387, [38, 82]],\n",
       "  [2, -17, 3.3003362550490705, [63, 76]],\n",
       "  [2, -13, 2.7392031134182164, [63, 64]],\n",
       "  [2, -3, 0.6666666666666666, [96, 97]]],\n",
       " 2: [[2, -2, 0.0, [65, 75]],\n",
       "  [3, -100, 5.074830616131074, [0, 20, 32]],\n",
       "  [3, -79, 5.066289757354275, [12, 38, 82]],\n",
       "  [3, -59, 4.3289896005749835, [21, 27, 34]],\n",
       "  [3, -45, 3.9415050998792482, [27, 38, 82]],\n",
       "  [3, -34, 3.6938995481497052, [36, 63, 76]],\n",
       "  [3, -9, 1.945530556036326, [54, 96, 97]],\n",
       "  [3, -24, 3.286167560025758, [38, 84, 87]],\n",
       "  [3, -69, 4.605539227568051, [11, 29, 63]],\n",
       "  [3, -13, 2.1518591116182377, [63, 64, 67]],\n",
       "  [3, -21, 2.817202831368103, [38, 42, 87]],\n",
       "  [3, -51, 4.0994557194156105, [28, 34, 62]],\n",
       "  [3, -73, 4.759197288069534, [7, 20, 33]],\n",
       "  [3, -5, 0.9509775004326938, [65, 79, 96]],\n",
       "  [3, -29, 3.356623066417731, [33, 44, 84]],\n",
       "  [3, -14, 2.5435457481740578, [52, 63, 64]],\n",
       "  [3, -32, 3.505215054483281, [38, 82, 93]],\n",
       "  [3, -8, 1.4387218755408673, [39, 47, 96]],\n",
       "  [3, -4, 0.5, [59, 96, 97]],\n",
       "  [3, -4, 0.5, [48, 65, 75]]],\n",
       " 3: [[3, -3, 0.0, [52, 65, 75]],\n",
       "  [4, -100, 4.6813473110818, [0, 5, 20, 32]],\n",
       "  [4, -84, 4.565457333692785, [7, 27, 38, 82]],\n",
       "  [4, -8, 1.25, [48, 65, 75, 76]],\n",
       "  [4, -79, 4.446084333647765, [12, 38, 62, 82]],\n",
       "  [4, -12, 1.6258145836939115, [39, 47, 68, 96]],\n",
       "  [4, -18, 2.199100495859661, [55, 63, 64, 67]],\n",
       "  [4, -6, 0.6666666666666666, [59, 70, 96, 97]],\n",
       "  [4, -29, 2.9947494939476376, [33, 36, 44, 84]],\n",
       "  [4, -35, 3.588359561059714, [36, 63, 76, 99]],\n",
       "  [4, -69, 4.1830386577217045, [11, 21, 27, 34]],\n",
       "  [4, -23, 2.6591851938578333, [38, 42, 70, 87]],\n",
       "  [4, -59, 4.082137754527186, [21, 27, 32, 34]],\n",
       "  [4, -43, 3.6574129085755978, [24, 38, 42, 87]],\n",
       "  [4, -56, 3.9407478957970175, [28, 34, 62, 94]],\n",
       "  [4, -34, 3.195148274965147, [36, 42, 63, 76]],\n",
       "  [4, -64, 4.172187920443138, [21, 27, 34, 88]],\n",
       "  [4, -15, 1.998277896735806, [63, 64, 67, 78]],\n",
       "  [4, -52, 3.8193354546386966, [26, 38, 82, 93]],\n",
       "  [4, -5, 0.4, [65, 79, 96, 97]]],\n",
       " 4: [[4, -4, 0.0, [52, 65, 75, 92]],\n",
       "  [5, -100, 4.42768741058976, [0, 5, 20, 32, 34]],\n",
       "  [5, -84, 4.101391835092161, [7, 27, 38, 61, 82]],\n",
       "  [5, -43, 3.261808563591227, [24, 38, 42, 55, 87]],\n",
       "  [5, -26, 2.445531112518227, [42, 55, 63, 64, 67]],\n",
       "  [5, -9, 1.1111111111111112, [65, 72, 79, 96, 97]],\n",
       "  [5, -34, 2.8144289550503228, [36, 42, 63, 66, 76]],\n",
       "  [5, -52, 3.4803774164730457, [26, 38, 54, 82, 93]],\n",
       "  [5, -37, 3.064592671648067, [36, 42, 63, 76, 96]],\n",
       "  [5, -7, 0.5714285714285714, [51, 65, 79, 96, 97]],\n",
       "  [5, -12, 1.3962406251802892, [39, 47, 68, 96, 97]],\n",
       "  [5, -79, 4.015916348762786, [12, 31, 38, 62, 82]],\n",
       "  [5, -23, 2.3593331524561045, [38, 41, 42, 70, 87]],\n",
       "  [5, -14, 1.8221267860233525, [48, 54, 65, 75, 76]],\n",
       "  [4, -5, 0.4, [52, 58, 65, 75]],\n",
       "  [5, -66, 3.846987319901615, [28, 34, 62, 83, 94]],\n",
       "  [5, -74, 3.9964936782512783, [11, 28, 34, 62, 94]],\n",
       "  [5, -61, 3.8080577481814712, [28, 34, 62, 88, 94]],\n",
       "  [5, -56, 3.6893829221645045, [26, 38, 68, 82, 93]],\n",
       "  [5, -11, 1.341353409287588, [48, 65, 75, 76, 89]]],\n",
       " 5: [[4, -4, 0.0, [52, 65, 75, 92]],\n",
       "  [6, -100, 4.185166302577474, [0, 5, 20, 26, 32, 34]],\n",
       "  [6, -86, 3.957438662921557, [9, 28, 34, 62, 83, 94]],\n",
       "  [5, -6, 0.3333333333333333, [52, 58, 65, 71, 75]],\n",
       "  [6, -40, 2.9536204088285487, [36, 42, 63, 76, 93, 96]],\n",
       "  [6, -13, 1.2888375001664207, [39, 46, 47, 68, 96, 97]],\n",
       "  [6, -9, 0.6666666666666666, [51, 65, 79, 80, 96, 97]],\n",
       "  [6, -79, 3.7864792355995043, [12, 18, 31, 38, 62, 82]],\n",
       "  [6, -34, 2.6121395268568643, [36, 38, 42, 63, 66, 76]],\n",
       "  [6, -29, 2.3565067733668057, [42, 55, 63, 64, 67, 89]],\n",
       "  [6, -60, 3.4163270942766393, [26, 38, 54, 64, 82, 93]],\n",
       "  [6, -10, 1.0, [65, 72, 79, 91, 96, 97]],\n",
       "  [6, -23, 2.0115070654995826, [38, 41, 42, 46, 70, 87]],\n",
       "  [6, -14, 1.5435457481740578, [55, 65, 72, 79, 96, 97]],\n",
       "  [6, -69, 3.7486384147198564, [25, 28, 34, 62, 83, 94]],\n",
       "  [6, -53, 3.328324664663002, [25, 36, 42, 63, 66, 76]],\n",
       "  [6, -66, 3.614513180269939, [28, 34, 62, 63, 83, 94]],\n",
       "  [6, -74, 3.761988032757385, [11, 18, 28, 34, 62, 94]],\n",
       "  [6, -61, 3.6120620882918875, [28, 34, 50, 62, 88, 94]],\n",
       "  [6, -46, 3.085201170955636, [36, 42, 63, 76, 84, 96]]],\n",
       " 6: [[4, -4, 0.0, [52, 65, 75, 92]],\n",
       "  [7, -100, 4.0528260862556325, [0, 5, 20, 23, 26, 32, 34]],\n",
       "  [7, -86, 3.7500041387693717, [9, 28, 34, 62, 64, 83, 94]],\n",
       "  [5, -6, 0.3333333333333333, [52, 58, 65, 71, 75]],\n",
       "  [7, -17, 1.4561698530684395, [39, 46, 47, 68, 76, 96, 97]],\n",
       "  [7, -10, 0.6000000000000001, [51, 59, 65, 79, 80, 96, 97]],\n",
       "  [7, -23, 1.8419359989826207, [38, 41, 42, 46, 70, 87, 92]],\n",
       "  [7, -53, 3.1027447542240463, [25, 28, 36, 42, 63, 66, 76]],\n",
       "  [7, -40, 2.7523211955579505, [36, 42, 63, 74, 76, 93, 96]],\n",
       "  [7, -79, 3.61235668981273, [12, 18, 31, 38, 62, 76, 82]],\n",
       "  [7, -66, 3.4007667587350854, [28, 34, 46, 62, 63, 83, 94]],\n",
       "  [7, -47, 3.0195585928501973, [35, 36, 42, 63, 76, 84, 96]],\n",
       "  [7, -46, 2.81354734788178, [36, 42, 63, 64, 76, 84, 96]],\n",
       "  [7, -72, 3.528717290307541, [23, 28, 34, 62, 63, 83, 94]],\n",
       "  [7, -34, 2.4842420108099006, [36, 38, 42, 49, 63, 66, 76]],\n",
       "  [7, -37, 2.528854903116131, [36, 38, 42, 57, 63, 66, 76]],\n",
       "  [7, -26, 1.9622903849482256, [38, 41, 42, 46, 70, 84, 87]],\n",
       "  [7, -29, 2.2320364121793292, [42, 55, 59, 63, 64, 67, 89]],\n",
       "  [7, -11, 0.9090909090909092, [65, 72, 79, 90, 91, 96, 97]],\n",
       "  [7, -59, 3.2527285123977294, [25, 36, 42, 63, 66, 76, 87]]],\n",
       " 7: [[5, -5, 0.0, [52, 65, 75, 81, 92]],\n",
       "  [8, -100, 3.862373269418346, [0, 5, 20, 23, 26, 32, 34, 93]],\n",
       "  [8, -48, 2.737982875053373, [34, 36, 42, 63, 64, 76, 84, 96]],\n",
       "  [7, -17, 1.4561698530684395, [39, 46, 47, 68, 76, 96, 97]],\n",
       "  [8, -53, 2.9344488195345364, [25, 28, 36, 41, 42, 63, 66, 76]],\n",
       "  [8, -98, 3.7355796045983043, [2, 12, 18, 31, 38, 62, 76, 82]],\n",
       "  [8, -13, 0.9230769230769231, [65, 70, 72, 79, 90, 91, 96, 97]],\n",
       "  [8, -88, 3.687504044706431, [7, 9, 28, 34, 62, 64, 83, 94]],\n",
       "  [8, -11, 0.5454545454545454, [51, 59, 65, 78, 79, 80, 96, 97]],\n",
       "  [8, -66, 3.249251607219934, [28, 34, 46, 62, 63, 83, 88, 94]],\n",
       "  [6, -7, 0.2857142857142857, [40, 52, 58, 65, 71, 75]],\n",
       "  [8, -79, 3.4647991057790657, [16, 23, 28, 34, 62, 63, 83, 94]],\n",
       "  [8, -41, 2.628014779557425, [33, 42, 55, 59, 63, 64, 67, 89]],\n",
       "  [8, -61, 3.178868561171574, [25, 36, 42, 63, 66, 76, 87, 97]],\n",
       "  [8, -59, 2.962980522308458, [25, 30, 36, 42, 63, 66, 76, 87]],\n",
       "  [8, -72, 3.3551606811214665, [23, 28, 34, 62, 63, 64, 83, 94]],\n",
       "  [8, -21, 1.55975654772207, [39, 42, 46, 47, 68, 76, 96, 97]],\n",
       "  [8, -14, 1.053920535868819, [65, 72, 76, 79, 90, 91, 96, 97]],\n",
       "  [6, -8, 0.5, [50, 52, 58, 65, 71, 75]],\n",
       "  [8, -86, 3.5174459992344875, [9, 19, 28, 34, 62, 64, 83, 94]]],\n",
       " 8: [[6, -6, 0.0, [40, 52, 65, 75, 81, 92]],\n",
       "  [9, -100, 3.681977386494636, [0, 5, 20, 23, 26, 32, 34, 41, 93]],\n",
       "  [9, -25, 1.630195500086539, [39, 42, 46, 47, 68, 72, 76, 96, 97]],\n",
       "  [9, -41, 2.469716608931253, [33, 42, 44, 55, 59, 63, 64, 67, 89]],\n",
       "  [9, -12, 0.5, [51, 59, 65, 75, 78, 79, 80, 96, 97]],\n",
       "  [9, -59, 2.8117994284348313, [25, 30, 36, 41, 42, 63, 66, 76, 87]],\n",
       "  [9, -88, 3.507981165477058, [7, 9, 28, 34, 45, 62, 64, 83, 94]],\n",
       "  [9, -98, 3.5927224617411615, [2, 12, 18, 31, 38, 53, 62, 76, 82]],\n",
       "  [9, -17, 1.1476338237839374, [47, 65, 72, 76, 79, 90, 91, 96, 97]],\n",
       "  [9, -72, 3.189108802603902, [23, 28, 34, 37, 62, 63, 64, 83, 94]],\n",
       "  [9, -86, 3.3784258218709455, [9, 19, 28, 34, 50, 62, 64, 83, 94]],\n",
       "  [9, -19, 1.3876067356105408, [45, 65, 72, 76, 79, 90, 91, 96, 97]],\n",
       "  [9, -48, 2.6436219372829393, [34, 36, 42, 63, 64, 76, 84, 92, 96]],\n",
       "  [9, -60, 2.9073788001869296, [29, 34, 36, 42, 63, 64, 76, 84, 96]],\n",
       "  [9, -79, 3.298166151077941, [16, 23, 28, 32, 34, 62, 63, 83, 94]],\n",
       "  [9, -65, 3.0545436529843744, [15, 25, 28, 36, 41, 42, 63, 66, 76]],\n",
       "  [9, -43, 2.5522931619035916, [33, 42, 55, 59, 63, 64, 67, 88, 89]],\n",
       "  [9, -66, 3.1204994466397284, [28, 34, 39, 46, 62, 63, 83, 88, 94]],\n",
       "  [9, -15, 0.9333333333333332, [51, 55, 59, 65, 78, 79, 80, 96, 97]],\n",
       "  [7, -8, 0.25, [40, 52, 58, 65, 71, 75, 98]]],\n",
       " 9: [[7, -7, 0.0, [40, 52, 65, 75, 81, 92, 99]],\n",
       "  [9, -100, 3.681977386494636, [0, 5, 20, 23, 26, 32, 34, 41, 93]],\n",
       "  [9, -25, 1.630195500086539, [39, 42, 46, 47, 68, 72, 76, 96, 97]],\n",
       "  [9, -41, 2.469716608931253, [33, 42, 44, 55, 59, 63, 64, 67, 89]],\n",
       "  [9, -12, 0.5, [51, 59, 65, 75, 78, 79, 80, 96, 97]],\n",
       "  [9, -48, 2.6436219372829393, [34, 36, 42, 63, 64, 76, 84, 92, 96]],\n",
       "  [9, -15, 0.9333333333333332, [51, 55, 59, 65, 78, 79, 80, 96, 97]],\n",
       "  [9, -19, 1.3876067356105408, [45, 65, 72, 76, 79, 90, 91, 96, 97]],\n",
       "  [9, -79, 3.298166151077941, [16, 23, 28, 32, 34, 62, 63, 83, 94]],\n",
       "  [9, -59, 2.8117994284348313, [25, 30, 36, 41, 42, 63, 66, 76, 87]],\n",
       "  [9, -72, 3.189108802603902, [23, 28, 34, 37, 62, 63, 64, 83, 94]],\n",
       "  [9, -88, 3.507981165477058, [7, 9, 28, 34, 45, 62, 64, 83, 94]],\n",
       "  [9, -98, 3.5927224617411615, [2, 12, 18, 31, 38, 53, 62, 76, 82]],\n",
       "  [9, -17, 1.1476338237839374, [47, 65, 72, 76, 79, 90, 91, 96, 97]],\n",
       "  [9, -86, 3.3784258218709455, [9, 19, 28, 34, 50, 62, 64, 83, 94]],\n",
       "  [9, -60, 2.9073788001869296, [29, 34, 36, 42, 63, 64, 76, 84, 96]],\n",
       "  [9, -43, 2.5522931619035916, [33, 42, 55, 59, 63, 64, 67, 88, 89]],\n",
       "  [9, -65, 3.0545436529843744, [15, 25, 28, 36, 41, 42, 63, 66, 76]],\n",
       "  [9, -66, 3.1204994466397284, [28, 34, 39, 46, 62, 63, 83, 88, 94]],\n",
       "  [7, -8, 0.25, [40, 52, 65, 75, 81, 90, 92]]]}"
      ]
     },
     "execution_count": 18,
     "metadata": {},
     "output_type": "execute_result"
    }
   ],
   "source": [
    "fn='.//TESTOUTPUT//synthetic_case//greedy_new//100//0//max_sensor_10_Lmax_20_new_plans_5//4//population.pkl'\n",
    "with open(fn, \"rb\") as tf:\n",
    "    solution = pickle.load(tf)\n",
    "solution"
   ]
  },
  {
   "cell_type": "code",
   "execution_count": 15,
   "id": "2ce40084",
   "metadata": {},
   "outputs": [
    {
     "data": {
      "text/html": [
       "<div>\n",
       "<style scoped>\n",
       "    .dataframe tbody tr th:only-of-type {\n",
       "        vertical-align: middle;\n",
       "    }\n",
       "\n",
       "    .dataframe tbody tr th {\n",
       "        vertical-align: top;\n",
       "    }\n",
       "\n",
       "    .dataframe thead th {\n",
       "        text-align: right;\n",
       "    }\n",
       "</style>\n",
       "<table border=\"1\" class=\"dataframe\">\n",
       "  <thead>\n",
       "    <tr style=\"text-align: right;\">\n",
       "      <th></th>\n",
       "      <th>OBJECTID</th>\n",
       "      <th>OBJECTID_1</th>\n",
       "      <th>CL</th>\n",
       "      <th>FEAT_NUM</th>\n",
       "      <th>geometry</th>\n",
       "    </tr>\n",
       "  </thead>\n",
       "  <tbody>\n",
       "    <tr>\n",
       "      <th>0</th>\n",
       "      <td>1.0</td>\n",
       "      <td>1.0</td>\n",
       "      <td>91.25</td>\n",
       "      <td>FMH4044860</td>\n",
       "      <td>POINT Z (12716872.423 2548844.993 0.000)</td>\n",
       "    </tr>\n",
       "    <tr>\n",
       "      <th>1</th>\n",
       "      <td>2.0</td>\n",
       "      <td>2.0</td>\n",
       "      <td>91.30</td>\n",
       "      <td>FMH4044861</td>\n",
       "      <td>POINT Z (12716883.632 2548821.007 0.000)</td>\n",
       "    </tr>\n",
       "    <tr>\n",
       "      <th>2</th>\n",
       "      <td>3.0</td>\n",
       "      <td>3.0</td>\n",
       "      <td>14.26</td>\n",
       "      <td>FMH4045529</td>\n",
       "      <td>POINT Z (12712902.662 2559870.384 0.000)</td>\n",
       "    </tr>\n",
       "    <tr>\n",
       "      <th>3</th>\n",
       "      <td>4.0</td>\n",
       "      <td>4.0</td>\n",
       "      <td>12.17</td>\n",
       "      <td>FMH4045530</td>\n",
       "      <td>POINT Z (12712907.734 2559869.614 0.000)</td>\n",
       "    </tr>\n",
       "    <tr>\n",
       "      <th>4</th>\n",
       "      <td>5.0</td>\n",
       "      <td>5.0</td>\n",
       "      <td>7.18</td>\n",
       "      <td>FMH4045531</td>\n",
       "      <td>POINT Z (12712914.805 2559877.987 0.000)</td>\n",
       "    </tr>\n",
       "    <tr>\n",
       "      <th>...</th>\n",
       "      <td>...</td>\n",
       "      <td>...</td>\n",
       "      <td>...</td>\n",
       "      <td>...</td>\n",
       "      <td>...</td>\n",
       "    </tr>\n",
       "    <tr>\n",
       "      <th>85280</th>\n",
       "      <td>85281.0</td>\n",
       "      <td>85281.0</td>\n",
       "      <td>0.00</td>\n",
       "      <td>FMH4098553</td>\n",
       "      <td>POINT Z (12711403.916 2549760.350 0.000)</td>\n",
       "    </tr>\n",
       "    <tr>\n",
       "      <th>85281</th>\n",
       "      <td>85282.0</td>\n",
       "      <td>85282.0</td>\n",
       "      <td>0.00</td>\n",
       "      <td>FMH4098555</td>\n",
       "      <td>POINT Z (12711395.209 2549741.677 0.000)</td>\n",
       "    </tr>\n",
       "    <tr>\n",
       "      <th>85282</th>\n",
       "      <td>85283.0</td>\n",
       "      <td>85283.0</td>\n",
       "      <td>7.92</td>\n",
       "      <td>FMH1066142</td>\n",
       "      <td>POINT Z (12712978.065 2563325.618 0.000)</td>\n",
       "    </tr>\n",
       "    <tr>\n",
       "      <th>85283</th>\n",
       "      <td>85284.0</td>\n",
       "      <td>85284.0</td>\n",
       "      <td>4.75</td>\n",
       "      <td>FMH4017369</td>\n",
       "      <td>POINT Z (12708616.258 2550935.833 0.000)</td>\n",
       "    </tr>\n",
       "    <tr>\n",
       "      <th>85284</th>\n",
       "      <td>85285.0</td>\n",
       "      <td>85285.0</td>\n",
       "      <td>0.00</td>\n",
       "      <td>FMH4098602</td>\n",
       "      <td>POINT Z (12712827.044 2550617.319 0.000)</td>\n",
       "    </tr>\n",
       "  </tbody>\n",
       "</table>\n",
       "<p>85285 rows × 5 columns</p>\n",
       "</div>"
      ],
      "text/plain": [
       "       OBJECTID  OBJECTID_1     CL    FEAT_NUM  \\\n",
       "0           1.0         1.0  91.25  FMH4044860   \n",
       "1           2.0         2.0  91.30  FMH4044861   \n",
       "2           3.0         3.0  14.26  FMH4045529   \n",
       "3           4.0         4.0  12.17  FMH4045530   \n",
       "4           5.0         5.0   7.18  FMH4045531   \n",
       "...         ...         ...    ...         ...   \n",
       "85280   85281.0     85281.0   0.00  FMH4098553   \n",
       "85281   85282.0     85282.0   0.00  FMH4098555   \n",
       "85282   85283.0     85283.0   7.92  FMH1066142   \n",
       "85283   85284.0     85284.0   4.75  FMH4017369   \n",
       "85284   85285.0     85285.0   0.00  FMH4098602   \n",
       "\n",
       "                                       geometry  \n",
       "0      POINT Z (12716872.423 2548844.993 0.000)  \n",
       "1      POINT Z (12716883.632 2548821.007 0.000)  \n",
       "2      POINT Z (12712902.662 2559870.384 0.000)  \n",
       "3      POINT Z (12712907.734 2559869.614 0.000)  \n",
       "4      POINT Z (12712914.805 2559877.987 0.000)  \n",
       "...                                         ...  \n",
       "85280  POINT Z (12711403.916 2549760.350 0.000)  \n",
       "85281  POINT Z (12711395.209 2549741.677 0.000)  \n",
       "85282  POINT Z (12712978.065 2563325.618 0.000)  \n",
       "85283  POINT Z (12708616.258 2550935.833 0.000)  \n",
       "85284  POINT Z (12712827.044 2550617.319 0.000)  \n",
       "\n",
       "[85285 rows x 5 columns]"
      ]
     },
     "execution_count": 15,
     "metadata": {},
     "output_type": "execute_result"
    }
   ],
   "source": [
    "network_gdf"
   ]
  },
  {
   "cell_type": "markdown",
   "id": "71b9cfa0",
   "metadata": {},
   "source": [
    "# synthetic case"
   ]
  },
  {
   "cell_type": "code",
   "execution_count": 27,
   "id": "77e196e1",
   "metadata": {},
   "outputs": [
    {
     "name": "stdout",
     "output_type": "stream",
     "text": [
      "9.25\n",
      "33.26\n",
      "60.26\n",
      "91.56\n",
      "96.81\n",
      "150.66\n",
      "186.13\n",
      "223.31\n",
      "253.49\n",
      "330.49\n",
      "685.55\n",
      "1190.3\n",
      "1951.67\n",
      "3052.6\n"
     ]
    }
   ],
   "source": [
    "# read time.txt file,修改new_plans\n",
    "sizes=[100,200,300,400,500,600,700,800,900,1000,1500,2000,2500,3000]\n",
    "for size in sizes:\n",
    "    max_sensor=int(size/10)\n",
    "    path_new='.//TESTOUTPUT//synthetic_case//greedy_new//' + str(size) + '//0//' + 'max_sensor_' + str(max_sensor) + '_Lmax_20_new_plans_30//0//time.txt'\n",
    "    f=open(path_new,'r')\n",
    "    print(round(float(f.read()),2))"
   ]
  },
  {
   "cell_type": "code",
   "execution_count": 24,
   "id": "81979f26",
   "metadata": {},
   "outputs": [
    {
     "name": "stdout",
     "output_type": "stream",
     "text": [
      "60.69\n",
      "733.61\n",
      "2532.55\n",
      "6176.07\n",
      "13503.35\n",
      "19734.28\n",
      "31385.43\n",
      "45900.06\n",
      "64501.67\n",
      "113634.28\n"
     ]
    }
   ],
   "source": [
    "# read time.txt file,修改new_plans\n",
    "sizes=[100,200,300,400,500,600,700,800,900,1000] #,1500,2000,2500,3000]\n",
    "for size in sizes:\n",
    "    max_sensor=int(size/10)\n",
    "    path_new='.//TESTOUTPUT//synthetic_case//greedy_original//' + str(size) + '//0//' + 'max_sensor_' + str(max_sensor) + '_Lmax_20//0//time.txt'\n",
    "    f=open(path_new,'r')\n",
    "    print(round(float(f.read()),2))"
   ]
  },
  {
   "cell_type": "markdown",
   "id": "aed9b8c5",
   "metadata": {},
   "source": [
    "#### when OG cannot generate solution"
   ]
  },
  {
   "cell_type": "code",
   "execution_count": 15,
   "id": "92755364",
   "metadata": {},
   "outputs": [
    {
     "name": "stderr",
     "output_type": "stream",
     "text": [
      "<ipython-input-15-1fa07bb72707>:13: FutureWarning: The frame.append method is deprecated and will be removed from pandas in a future version. Use pandas.concat instead.\n",
      "  min_max_df=min_max_df.append(obj_new_df)\n",
      "<ipython-input-15-1fa07bb72707>:13: FutureWarning: The frame.append method is deprecated and will be removed from pandas in a future version. Use pandas.concat instead.\n",
      "  min_max_df=min_max_df.append(obj_new_df)\n",
      "<ipython-input-15-1fa07bb72707>:13: FutureWarning: The frame.append method is deprecated and will be removed from pandas in a future version. Use pandas.concat instead.\n",
      "  min_max_df=min_max_df.append(obj_new_df)\n",
      "<ipython-input-15-1fa07bb72707>:13: FutureWarning: The frame.append method is deprecated and will be removed from pandas in a future version. Use pandas.concat instead.\n",
      "  min_max_df=min_max_df.append(obj_new_df)\n",
      "<ipython-input-15-1fa07bb72707>:13: FutureWarning: The frame.append method is deprecated and will be removed from pandas in a future version. Use pandas.concat instead.\n",
      "  min_max_df=min_max_df.append(obj_new_df)\n",
      "<ipython-input-15-1fa07bb72707>:13: FutureWarning: The frame.append method is deprecated and will be removed from pandas in a future version. Use pandas.concat instead.\n",
      "  min_max_df=min_max_df.append(obj_new_df)\n"
     ]
    },
    {
     "data": {
      "text/plain": [
       "{'coverage': [-3000.0, -300.0], 'resolution': [0.0, 3.5998760533901106]}"
      ]
     },
     "execution_count": 15,
     "metadata": {},
     "output_type": "execute_result"
    }
   ],
   "source": [
    "# new greedy result to get the min_max_df, network size from 1500-3000\n",
    "min_max_df=pd.DataFrame(columns=['coverage','resolution'])\n",
    "new_plans_all=[5,10,15,20,25,30]\n",
    "size=3000\n",
    "max_sensor=int(size/10)\n",
    "for new_plans in new_plans_all:\n",
    "    path_new='.//TESTOUTPUT//synthetic_case//greedy_new//' + str(size) + '//0//' + 'max_sensor_' + str(max_sensor) + '_Lmax_20_new_plans_'+str(new_plans)+'//0//final_solution.pkl'\n",
    "    with open(path_new, 'rb') as f:\n",
    "        result_new = pickle.load(f)\n",
    "\n",
    "    obj_new=solution_to_objective_values(result_new)\n",
    "    obj_new_df=pd.DataFrame(obj_new, columns=['coverage', 'resolution'])\n",
    "    min_max_df=min_max_df.append(obj_new_df)\n",
    "\n",
    "norm_params=cal_norm_para(min_max_df)\n",
    "norm_params\n"
   ]
  },
  {
   "cell_type": "code",
   "execution_count": 16,
   "id": "5517622e",
   "metadata": {},
   "outputs": [
    {
     "name": "stdout",
     "output_type": "stream",
     "text": [
      "new_plans: 5 hv: 0.1503408570226929\n",
      "HV for new greedy with 5 new plans generated and network size of 3000 is 0.15.\n",
      "new_plans: 10 hv: 0.20922770896493614\n",
      "HV for new greedy with 10 new plans generated and network size of 3000 is 0.209.\n",
      "new_plans: 15 hv: 0.24137334465349108\n",
      "HV for new greedy with 15 new plans generated and network size of 3000 is 0.241.\n",
      "new_plans: 20 hv: 0.25215169132322396\n",
      "HV for new greedy with 20 new plans generated and network size of 3000 is 0.252.\n",
      "new_plans: 25 hv: 0.2619627745149813\n",
      "HV for new greedy with 25 new plans generated and network size of 3000 is 0.262.\n",
      "new_plans: 30 hv: 0.2496893944714817\n",
      "HV for new greedy with 30 new plans generated and network size of 3000 is 0.25.\n"
     ]
    }
   ],
   "source": [
    "for new_plans in new_plans_all:\n",
    "    path_new='.//TESTOUTPUT//synthetic_case//greedy_new//' + str(size) + '//0//' + 'max_sensor_' + str(max_sensor) + '_Lmax_20_new_plans_'+str(new_plans)+'//0//final_solution.pkl'\n",
    "    with open(path_new, 'rb') as f:\n",
    "        result_new = pickle.load(f)\n",
    "    obj_new=solution_to_objective_values(result_new)\n",
    "    obj_norm=obj_new.copy()  # obj should be array\n",
    "    for i in range(2):\n",
    "        obj_norm[:,i]=normalize(obj_new[:,i], norm_params, ['coverage', 'resolution'][i])\n",
    "    hv=pg.hypervolume(obj_norm).compute(ref_point)\n",
    "    print('new_plans:', new_plans, 'hv:', hv)\n",
    "    print('HV for new greedy with {} new plans generated and network size of {} is {}.'.format(new_plans, size,round(hv,3)))"
   ]
  },
  {
   "cell_type": "markdown",
   "id": "d46dabcb",
   "metadata": {},
   "source": [
    "#### when OG can generaete solution"
   ]
  },
  {
   "cell_type": "code",
   "execution_count": 15,
   "id": "30709f7d",
   "metadata": {},
   "outputs": [
    {
     "name": "stderr",
     "output_type": "stream",
     "text": [
      "<ipython-input-15-2af54c0ed6ac>:13: FutureWarning: The frame.append method is deprecated and will be removed from pandas in a future version. Use pandas.concat instead.\n",
      "  min_max_df=min_max_df.append(obj_new_df)\n",
      "<ipython-input-15-2af54c0ed6ac>:13: FutureWarning: The frame.append method is deprecated and will be removed from pandas in a future version. Use pandas.concat instead.\n",
      "  min_max_df=min_max_df.append(obj_new_df)\n",
      "<ipython-input-15-2af54c0ed6ac>:13: FutureWarning: The frame.append method is deprecated and will be removed from pandas in a future version. Use pandas.concat instead.\n",
      "  min_max_df=min_max_df.append(obj_new_df)\n",
      "<ipython-input-15-2af54c0ed6ac>:13: FutureWarning: The frame.append method is deprecated and will be removed from pandas in a future version. Use pandas.concat instead.\n",
      "  min_max_df=min_max_df.append(obj_new_df)\n",
      "<ipython-input-15-2af54c0ed6ac>:13: FutureWarning: The frame.append method is deprecated and will be removed from pandas in a future version. Use pandas.concat instead.\n",
      "  min_max_df=min_max_df.append(obj_new_df)\n",
      "<ipython-input-15-2af54c0ed6ac>:13: FutureWarning: The frame.append method is deprecated and will be removed from pandas in a future version. Use pandas.concat instead.\n",
      "  min_max_df=min_max_df.append(obj_new_df)\n",
      "<ipython-input-15-2af54c0ed6ac>:24: FutureWarning: The frame.append method is deprecated and will be removed from pandas in a future version. Use pandas.concat instead.\n",
      "  min_max_df=min_max_df.append(obj_original_df)\n"
     ]
    },
    {
     "data": {
      "text/plain": [
       "{'coverage': [-900.0, -90.0], 'resolution': [0.0, 3.6251934465714655]}"
      ]
     },
     "execution_count": 15,
     "metadata": {},
     "output_type": "execute_result"
    }
   ],
   "source": [
    "# network size : 100, 500, 1000\n",
    "min_max_df=pd.DataFrame(columns=['coverage','resolution'])\n",
    "new_plans_all=[5,10,15,20,25,30]\n",
    "size=900\n",
    "max_sensor=int(size/10)\n",
    "for new_plans in new_plans_all:   \n",
    "    path_new='.//TESTOUTPUT//synthetic_case//greedy_new//' + str(size) + '//0//' + 'max_sensor_' + str(max_sensor) + '_Lmax_20_new_plans_'+str(new_plans)+'//0//final_solution.pkl'\n",
    "    with open(path_new, 'rb') as f:\n",
    "        result_new = pickle.load(f)\n",
    "\n",
    "    obj_new=solution_to_objective_values(result_new)\n",
    "    obj_new_df=pd.DataFrame(obj_new, columns=['coverage', 'resolution'])\n",
    "    min_max_df=min_max_df.append(obj_new_df)\n",
    "\n",
    "path_original='.//TESTOUTPUT//synthetic_case//greedy_original//'+str(size)+'//0//'+'max_sensor_' + str(max_sensor) + '_Lmax_20'+'//0//solution.pkl'\n",
    "with open(path_original, 'rb') as f:\n",
    "    greedy_original = pickle.load(f)\n",
    "\n",
    "n=len(greedy_original)\n",
    "result_original=greedy_original[n-1]\n",
    "\n",
    "obj_original=solution_to_objective_values(result_original)\n",
    "obj_original_df=pd.DataFrame(obj_original, columns=['coverage', 'resolution'])\n",
    "min_max_df=min_max_df.append(obj_original_df)\n",
    "\n",
    "norm_params=cal_norm_para(min_max_df)\n",
    "norm_params"
   ]
  },
  {
   "cell_type": "code",
   "execution_count": 16,
   "id": "cb3bbe94",
   "metadata": {},
   "outputs": [
    {
     "name": "stdout",
     "output_type": "stream",
     "text": [
      "new_plans: 5 hv: 0.18459288873326915\n",
      "HV for new greedy with 5 new plans generated and network size of 900 is 0.185.\n",
      "new_plans: 10 hv: 0.2202921867953848\n",
      "HV for new greedy with 10 new plans generated and network size of 900 is 0.22.\n",
      "new_plans: 15 hv: 0.2631636600807501\n",
      "HV for new greedy with 15 new plans generated and network size of 900 is 0.263.\n",
      "new_plans: 20 hv: 0.26289442174995103\n",
      "HV for new greedy with 20 new plans generated and network size of 900 is 0.263.\n",
      "new_plans: 25 hv: 0.25277864184082355\n",
      "HV for new greedy with 25 new plans generated and network size of 900 is 0.253.\n",
      "new_plans: 30 hv: 0.2765613710625661\n",
      "HV for new greedy with 30 new plans generated and network size of 900 is 0.277.\n",
      "HV for original greedy with network size of 900 is 0.301.\n"
     ]
    }
   ],
   "source": [
    "for new_plans in new_plans_all:\n",
    "    max_sensor=int(size/10)\n",
    "    path_new='.//TESTOUTPUT//synthetic_case//greedy_new//' + str(size) + '//0//' + 'max_sensor_' + str(max_sensor) + '_Lmax_20_new_plans_'+str(new_plans)+'//0//final_solution.pkl'\n",
    "    with open(path_new, 'rb') as f:\n",
    "        result_new = pickle.load(f)\n",
    "    obj_new=solution_to_objective_values(result_new)\n",
    "    obj_norm=obj_new.copy()  # obj should be array\n",
    "    for i in range(2):\n",
    "        obj_norm[:,i]=normalize(obj_new[:,i], norm_params, ['coverage', 'resolution'][i])\n",
    "    hv=pg.hypervolume(obj_norm).compute(ref_point)\n",
    "    print('new_plans:', new_plans, 'hv:', hv)\n",
    "    print('HV for new greedy with {} new plans generated and network size of {} is {}.'.format(new_plans, size,round(hv,3)))\n",
    "\n",
    "obj_norm=obj_original.copy()  # obj should be array\n",
    "for i in range(2):\n",
    "    obj_norm[:,i]=normalize(obj_original[:,i], norm_params, ['coverage', 'resolution'][i])\n",
    "hv=pg.hypervolume(obj_norm).compute(ref_point)\n",
    "print('HV for original greedy with network size of {} is {}.'.format(size,round(hv,3)))"
   ]
  },
  {
   "cell_type": "markdown",
   "id": "065e2cd6",
   "metadata": {},
   "source": [
    "# real-world case"
   ]
  },
  {
   "cell_type": "markdown",
   "id": "561690bb",
   "metadata": {},
   "source": [
    "#### time and HV"
   ]
  },
  {
   "cell_type": "code",
   "execution_count": 4,
   "id": "3b3b1f61",
   "metadata": {},
   "outputs": [
    {
     "name": "stdout",
     "output_type": "stream",
     "text": [
      "31.07\n",
      "72.55\n",
      "121.49\n",
      "178.7\n",
      "235.17\n",
      "327.76\n"
     ]
    }
   ],
   "source": [
    "# 时间\n",
    "new_plans_all=[5,10,15,20,25,30]\n",
    "for new_plans in new_plans_all:\n",
    "    path='.//TESTOUTPUT//real_case//greedy_new//max_sensor_100' + '_Lmax_20_new_plans_'+str(new_plans)+'//0//time.txt'\n",
    "    f=open(path,'r')\n",
    "    print(round(float(f.read()),2))"
   ]
  },
  {
   "cell_type": "code",
   "execution_count": 19,
   "id": "24b4e1dd",
   "metadata": {},
   "outputs": [
    {
     "name": "stderr",
     "output_type": "stream",
     "text": [
      "<ipython-input-19-7325410f3266>:12: FutureWarning: The frame.append method is deprecated and will be removed from pandas in a future version. Use pandas.concat instead.\n",
      "  min_max_df=min_max_df.append(obj_df)\n",
      "<ipython-input-19-7325410f3266>:12: FutureWarning: The frame.append method is deprecated and will be removed from pandas in a future version. Use pandas.concat instead.\n",
      "  min_max_df=min_max_df.append(obj_df)\n",
      "<ipython-input-19-7325410f3266>:12: FutureWarning: The frame.append method is deprecated and will be removed from pandas in a future version. Use pandas.concat instead.\n",
      "  min_max_df=min_max_df.append(obj_df)\n",
      "<ipython-input-19-7325410f3266>:12: FutureWarning: The frame.append method is deprecated and will be removed from pandas in a future version. Use pandas.concat instead.\n",
      "  min_max_df=min_max_df.append(obj_df)\n",
      "<ipython-input-19-7325410f3266>:12: FutureWarning: The frame.append method is deprecated and will be removed from pandas in a future version. Use pandas.concat instead.\n",
      "  min_max_df=min_max_df.append(obj_df)\n",
      "<ipython-input-19-7325410f3266>:12: FutureWarning: The frame.append method is deprecated and will be removed from pandas in a future version. Use pandas.concat instead.\n",
      "  min_max_df=min_max_df.append(obj_df)\n"
     ]
    },
    {
     "data": {
      "text/plain": [
       "{'coverage': [-4204.0, -100.0], 'resolution': [0.0, 6.537459549227607]}"
      ]
     },
     "execution_count": 19,
     "metadata": {},
     "output_type": "execute_result"
    }
   ],
   "source": [
    "# HV\n",
    "min_max_df=pd.DataFrame(columns=['coverage','resolution'])\n",
    "new_plans_all=[5,10,15,20,25,30]\n",
    "\n",
    "for new_plans in new_plans_all:\n",
    "    path='.//TESTOUTPUT//real_case//greedy_new//max_sensor_100' + '_Lmax_20_new_plans_'+str(new_plans)+'//0//final_solution.pkl'\n",
    "    with open(path, 'rb') as f:\n",
    "        result = pickle.load(f)\n",
    "\n",
    "    obj=solution_to_objective_values(result)\n",
    "    obj_df=pd.DataFrame(obj, columns=['coverage', 'resolution'])\n",
    "    min_max_df=min_max_df.append(obj_df)\n",
    "\n",
    "norm_params=cal_norm_para(min_max_df)\n",
    "norm_params"
   ]
  },
  {
   "cell_type": "code",
   "execution_count": 20,
   "id": "99b825fd",
   "metadata": {},
   "outputs": [
    {
     "name": "stdout",
     "output_type": "stream",
     "text": [
      "new_plans: 5 hv: 0.222\n",
      "new_plans: 10 hv: 0.24\n",
      "new_plans: 15 hv: 0.258\n",
      "new_plans: 20 hv: 0.272\n",
      "new_plans: 25 hv: 0.282\n",
      "new_plans: 30 hv: 0.276\n"
     ]
    }
   ],
   "source": [
    "for new_plans in new_plans_all:\n",
    "    path='.//TESTOUTPUT//real_case//greedy_new//max_sensor_100' + '_Lmax_20_new_plans_'+str(new_plans)+'//0//final_solution.pkl'\n",
    "    with open(path, 'rb') as f:\n",
    "        result = pickle.load(f)\n",
    "    obj=solution_to_objective_values(result)\n",
    "    obj_norm=obj.copy()  # obj should be array\n",
    "    for i in range(2):\n",
    "        obj_norm[:,i]=normalize(obj[:,i], norm_params, ['coverage', 'resolution'][i])\n",
    "    hv=pg.hypervolume(obj_norm).compute(ref_point)\n",
    "    print('new_plans:', new_plans, 'hv:', round(hv,3))\n",
    "    # print('HV for new greedy with {} new plans generated and network size of {} is {}.'.format(new_plans, size,round(hv,3)))"
   ]
  },
  {
   "cell_type": "markdown",
   "id": "cfcf566b",
   "metadata": {},
   "source": [
    "#### pareto front"
   ]
  },
  {
   "cell_type": "code",
   "execution_count": 5,
   "id": "e973c4b0",
   "metadata": {},
   "outputs": [],
   "source": [
    "# 读取数据\n",
    "path='.//TESTOUTPUT//real_case//greedy_new//max_sensor_100_Lmax_20_new_plans_25//0//final_solution.pkl'\n",
    "with open(path,'rb') as f:\n",
    "    data=pickle.load(f)"
   ]
  },
  {
   "cell_type": "code",
   "execution_count": 6,
   "id": "2987a1bb",
   "metadata": {},
   "outputs": [],
   "source": [
    "obj=solution_to_objective_values(data)\n",
    "obj_df=pd.DataFrame(obj,columns=['coverage','resolution'])"
   ]
  },
  {
   "cell_type": "code",
   "execution_count": 23,
   "id": "b921d8ed",
   "metadata": {},
   "outputs": [
    {
     "data": {
      "image/png": "[encoded data removed]",
      "text/plain": [
       "<Figure size 640x480 with 1 Axes>"
      ]
     },
     "metadata": {},
     "output_type": "display_data"
    }
   ],
   "source": [
    "# cost-effective plot, x-axis is coverage, y-axis is resolution\n",
    "plt.scatter(-obj_df['coverage'], obj_df['resolution'])\n",
    "plt.xlabel('Coverage')\n",
    "plt.ylabel('Resolution')\n",
    "plt.title('Scatter Plot')\n",
    "plt.show()"
   ]
  },
  {
   "cell_type": "markdown",
   "id": "fbfe9f2c",
   "metadata": {},
   "source": [
    "#### select one solution：coverage最大"
   ]
  },
  {
   "cell_type": "code",
   "execution_count": 7,
   "id": "be16e67e",
   "metadata": {},
   "outputs": [],
   "source": [
    "coverage=int(obj_df['coverage'].min())"
   ]
  },
  {
   "cell_type": "code",
   "execution_count": 8,
   "id": "e358a9c9",
   "metadata": {},
   "outputs": [],
   "source": [
    "for ind in data:\n",
    "    if ind[1]==coverage:\n",
    "        sol_example=ind"
   ]
  },
  {
   "cell_type": "code",
   "execution_count": 26,
   "id": "6a76a351",
   "metadata": {},
   "outputs": [
    {
     "data": {
      "text/plain": [
       "[100,\n",
       " -4204,\n",
       " 6.537459549227607,\n",
       " [20,\n",
       "  37,\n",
       "  57,\n",
       "  92,\n",
       "  100,\n",
       "  108,\n",
       "  160,\n",
       "  230,\n",
       "  252,\n",
       "  279,\n",
       "  281,\n",
       "  357,\n",
       "  383,\n",
       "  413,\n",
       "  464,\n",
       "  617,\n",
       "  715,\n",
       "  848,\n",
       "  950,\n",
       "  1137,\n",
       "  1143,\n",
       "  1149,\n",
       "  1171,\n",
       "  1237,\n",
       "  1245,\n",
       "  1265,\n",
       "  1299,\n",
       "  1348,\n",
       "  1364,\n",
       "  1389,\n",
       "  1455,\n",
       "  1475,\n",
       "  1510,\n",
       "  1635,\n",
       "  1636,\n",
       "  1831,\n",
       "  1956,\n",
       "  2015,\n",
       "  2016,\n",
       "  2078,\n",
       "  2083,\n",
       "  2129,\n",
       "  2187,\n",
       "  2197,\n",
       "  2312,\n",
       "  2360,\n",
       "  2368,\n",
       "  2393,\n",
       "  2464,\n",
       "  2491,\n",
       "  2527,\n",
       "  2546,\n",
       "  2600,\n",
       "  2607,\n",
       "  2649,\n",
       "  2732,\n",
       "  2749,\n",
       "  2830,\n",
       "  2834,\n",
       "  2841,\n",
       "  2845,\n",
       "  2851,\n",
       "  2852,\n",
       "  2884,\n",
       "  2887,\n",
       "  3041,\n",
       "  3092,\n",
       "  3161,\n",
       "  3180,\n",
       "  3215,\n",
       "  3242,\n",
       "  3341,\n",
       "  3358,\n",
       "  3367,\n",
       "  3371,\n",
       "  3382,\n",
       "  3389,\n",
       "  3391,\n",
       "  3528,\n",
       "  3595,\n",
       "  3651,\n",
       "  3671,\n",
       "  3681,\n",
       "  3719,\n",
       "  3737,\n",
       "  3742,\n",
       "  3770,\n",
       "  3809,\n",
       "  3852,\n",
       "  3949,\n",
       "  3996,\n",
       "  4005,\n",
       "  4073,\n",
       "  4193,\n",
       "  4224,\n",
       "  4248,\n",
       "  4325,\n",
       "  4327,\n",
       "  4340,\n",
       "  4347]]"
      ]
     },
     "execution_count": 26,
     "metadata": {},
     "output_type": "execute_result"
    }
   ],
   "source": [
    "sol_example"
   ]
  },
  {
   "cell_type": "code",
   "execution_count": 17,
   "id": "ef1fbbc7",
   "metadata": {},
   "outputs": [],
   "source": [
    "# 提取安置sensor的manhole\n",
    "# 所有manhole的node\n",
    "manhole=list(range(0, len(upstream_set)))\n",
    "# 所有manhole标记都为0\n",
    "mark=[0]*len(upstream_set)\n",
    "\n",
    "# 提取出此solution中放置了sensor的manhole\n",
    "sensor=sol_example[3]\n",
    "# 对于被放置sensor的manhole，标记变为1\n",
    "for node in sensor:\n",
    "    mark[node]=1\n",
    "\n",
    "# 将node与其标记连起来，形成一个dictionary\n",
    "sensor_dictionary =  dict(zip(manhole, mark))"
   ]
  },
  {
   "cell_type": "code",
   "execution_count": 18,
   "id": "f5e0ae21",
   "metadata": {},
   "outputs": [],
   "source": [
    "# 提取被cover的manhole，记录每个node被cover的次数\n",
    "covered_node=[]\n",
    "covered_times=[0]*len(upstream_set)\n",
    "for node in sensor:\n",
    "    covered_set=upstream_set[node]\n",
    "    for j in covered_set:\n",
    "        if j in covered_node:\n",
    "            covered_times[j]+=1\n",
    "        else:\n",
    "            covered_times[j]=1\n",
    "            covered_node.append(j)\n",
    "# 将node与它被cover的次数连起来，形成一个dictionary\n",
    "covered_node_dictionary =  dict(zip(manhole, covered_times))"
   ]
  },
  {
   "cell_type": "code",
   "execution_count": 19,
   "id": "aaf5a1e0",
   "metadata": {},
   "outputs": [],
   "source": [
    "# 给每个node加上是否被cover、被cover的次数、以及坐标\n",
    "nx.set_node_attributes(relabeled_G,sensor_dictionary, \"whether-selected\")\n",
    "nx.set_node_attributes(relabeled_G,covered_node_dictionary,'covered_times')\n",
    "nx.set_node_attributes(relabeled_G,pos_data, \"coordinate\")"
   ]
  },
  {
   "cell_type": "code",
   "execution_count": 20,
   "id": "65492675",
   "metadata": {},
   "outputs": [],
   "source": [
    "# 将node、选中次数、经纬度分别读取，成为list\n",
    "node=[]\n",
    "whether_covered=[]\n",
    "covered_times=[]\n",
    "coordinate=[]\n",
    "for i in range(4394):\n",
    "    node.append(i)\n",
    "    whether_covered.append(relabeled_G.nodes[i]['whether-selected'])\n",
    "    covered_times.append(relabeled_G.nodes[i]['covered_times'])\n",
    "    coordinate.append(relabeled_G.nodes[i]['coordinate'])\n",
    "    #print(relabeled_G.nodes[i])\n",
    "\n",
    "# list转化为dataframe\n",
    "node=pd.DataFrame(node,columns=['node'])\n",
    "whether_covered=pd.DataFrame(whether_covered,columns=['whether_selected'])\n",
    "covered_times=pd.DataFrame(covered_times,columns=['covered_times'])\n",
    "coordinate=pd.DataFrame(coordinate,columns=['lon','lat'])\n",
    "\n",
    "# 合并dataframe\n",
    "final=pd.concat([node,whether_covered,covered_times,coordinate],axis=1)"
   ]
  },
  {
   "cell_type": "code",
   "execution_count": 21,
   "id": "0c595798",
   "metadata": {},
   "outputs": [
    {
     "name": "stderr",
     "output_type": "stream",
     "text": [
      "C:\\Users\\user\\AppData\\Local\\Temp\\ipykernel_41520\\2174046363.py:4: UserWarning: Column names longer than 10 characters will be truncated when saved to ESRI Shapefile.\n",
      "  gdf.to_file('./post-analysis-result/example-viz-data-new/node-max-coverage.shp')\n"
     ]
    }
   ],
   "source": [
    "gdf = gpd.GeoDataFrame(\n",
    "    final, geometry=gpd.points_from_xy(final.lon,final.lat))\n",
    "gdf.set_crs('epsg:2326')\n",
    "gdf.to_file('./post-analysis-result/example-viz-data-new/node-max-coverage.shp')"
   ]
  },
  {
   "cell_type": "code",
   "execution_count": 22,
   "id": "d37188d4",
   "metadata": {},
   "outputs": [],
   "source": [
    "# 提取被cover的edge以及每条edge被cover的次数\n",
    "covered_edge={}\n",
    "for node in sensor:\n",
    "    covered_link_set=upstream_links_set[node] # 提取sensor上游的link\n",
    "    for j in covered_link_set:  # 对cover的link遍历\n",
    "        if j in covered_edge.keys():   # 已经存在，value+1\n",
    "            covered_edge[j]+=1\n",
    "        else:  # 不存在，加入且value=1\n",
    "            covered_edge[j]=1\n",
    "\n",
    "# 将边被cover的次数赋给每个edge\n",
    "nx.set_edge_attributes(relabeled_G,covered_edge,'covered_times')\n",
    "\n",
    "# 转化为dataframe\n",
    "test=nx.to_pandas_edgelist(relabeled_G)\n",
    "# 将没有被cover到的edge对应的covered_times设置为0\n",
    "test=test.fillna(0)"
   ]
  },
  {
   "cell_type": "code",
   "execution_count": 23,
   "id": "a3f10f32",
   "metadata": {},
   "outputs": [
    {
     "name": "stderr",
     "output_type": "stream",
     "text": [
      "C:\\Users\\user\\AppData\\Local\\Temp\\ipykernel_41520\\2819811131.py:8: UserWarning: Column names longer than 10 characters will be truncated when saved to ESRI Shapefile.\n",
      "  gdf.to_file('./post-analysis-result/example-viz-data-new/edge-max-coverage.shp')\n"
     ]
    }
   ],
   "source": [
    "# 设置geometry\n",
    "test['geom'] = test['Wkt'].apply(wkt.loads)\n",
    "gdf = gpd.GeoDataFrame(test, geometry='geom')\n",
    "# 无关的列直接去掉\n",
    "gdf=gdf[['source','target','covered_times','geom']]\n",
    "# 设置坐标\n",
    "gdf=gdf.set_crs('epsg:2326')\n",
    "gdf.to_file('./post-analysis-result/example-viz-data-new/edge-max-coverage.shp')"
   ]
  },
  {
   "cell_type": "markdown",
   "metadata": {},
   "source": [
    "### not used"
   ]
  },
  {
   "cell_type": "code",
   "execution_count": null,
   "id": "694a4a99",
   "metadata": {},
   "outputs": [],
   "source": [
    "\n",
    "def HV_comparison(obj_new, obj_original):\n",
    "    obj_new_df = pd.DataFrame(obj_new, columns=['coverage', 'resolution'])\n",
    "    obj_original_df = pd.DataFrame(obj_original, columns=['coverage', 'resolution'])\n",
    "\n",
    "    def cal_norm_para(obj_new_df, obj_original_df):\n",
    "        min_max_df=pd.concat([obj_new_df, obj_original_df], ignore_index=True)\n",
    "        coverage_min=min_max_df['coverage'].min()\n",
    "        coverage_max=min_max_df['coverage'].max()\n",
    "        resolution_min=min_max_df['resolution'].min()\n",
    "        resolution_max=min_max_df['resolution'].max()\n",
    "        norm_params={'coverage':[coverage_min,coverage_max],\n",
    "               'resolution':[resolution_min,resolution_max]}\n",
    "        return norm_params\n",
    "\n",
    "    def normalize(values, norm_params, col):\n",
    "        mini, maxi = norm_params[col]\n",
    "        return (values - mini)/(maxi - mini)\n",
    "\n",
    "    norm_params=cal_norm_para(obj_new_df, obj_original_df)\n",
    "\n",
    "    def cal_HV(obj):\n",
    "        ref_point=[1,1]\n",
    "        obj_norm=obj.copy()  # obj should be array\n",
    "        for i in range(2):\n",
    "            obj_norm[:,i]=normalize(obj[:,i], norm_params, ['coverage', 'resolution'][i])\n",
    "        hv=pg.hypervolume(obj_norm).compute(ref_point)\n",
    "        return hv\n",
    "    \n",
    "    hv_new=cal_HV(obj_new)\n",
    "    hv_original=cal_HV(obj_original)\n",
    "    print('hv_new:', hv_new)\n",
    "    print('hv_original:', hv_original)\n",
    "\n",
    "    return hv_new, hv_original\n"
   ]
  }
 ],
 "metadata": {
  "kernelspec": {
   "display_name": "urbsim",
   "language": "python",
   "name": "python3"
  },
  "language_info": {
   "codemirror_mode": {
    "name": "ipython",
    "version": 3
   },
   "file_extension": ".py",
   "mimetype": "text/x-python",
   "name": "python",
   "nbconvert_exporter": "python",
   "pygments_lexer": "ipython3",
   "version": "3.9.12"
  }
 },
 "nbformat": 4,
 "nbformat_minor": 5
}
