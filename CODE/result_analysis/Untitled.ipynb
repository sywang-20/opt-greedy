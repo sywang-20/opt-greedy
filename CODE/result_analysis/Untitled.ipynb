{
 "cells": [
  {
   "cell_type": "code",
   "execution_count": 32,
   "id": "4792506c",
   "metadata": {},
   "outputs": [],
   "source": [
    "import os\n",
    "import pickle"
   ]
  },
  {
   "cell_type": "code",
   "execution_count": 38,
   "id": "f8389c6c",
   "metadata": {},
   "outputs": [],
   "source": [
    "# 读取数据\n",
    "path='D://project//opt-greedy//TESTOUTPUT//real_case//greedy_new//max_sensor_100_Lmax_20_new_plans_5//0//final_solution.pkl'\n",
    "with open(path,'rb') as f:\n",
    "    data=pickle.load(f)\n"
   ]
  },
  {
   "cell_type": "code",
   "execution_count": 41,
   "id": "ae92d4c5",
   "metadata": {},
   "outputs": [],
   "source": [
    "path='D://project//opt-greedy//TESTOUTPUT//real_case//greedy_new//max_sensor_100_Lmax_20_new_plans_5//0//population.pkl'\n",
    "with open(path,'rb') as f:\n",
    "    pop=pickle.load(f)"
   ]
  },
  {
   "cell_type": "code",
   "execution_count": 40,
   "id": "d97c6678",
   "metadata": {},
   "outputs": [
    {
     "data": {
      "text/plain": [
       "20"
      ]
     },
     "execution_count": 40,
     "metadata": {},
     "output_type": "execute_result"
    }
   ],
   "source": [
    "len(data)"
   ]
  },
  {
   "cell_type": "code",
   "execution_count": 53,
   "id": "5f3e3a74",
   "metadata": {},
   "outputs": [],
   "source": [
    "import random"
   ]
  },
  {
   "cell_type": "code",
   "execution_count": 66,
   "id": "67ccb38c",
   "metadata": {},
   "outputs": [
    {
     "data": {
      "text/plain": [
       "0"
      ]
     },
     "execution_count": 66,
     "metadata": {},
     "output_type": "execute_result"
    }
   ],
   "source": [
    "random.randint(0,10)"
   ]
  },
  {
   "cell_type": "code",
   "execution_count": 7,
   "id": "53bfb608",
   "metadata": {},
   "outputs": [],
   "source": [
    "import numpy as np"
   ]
  },
  {
   "cell_type": "code",
   "execution_count": 21,
   "id": "fe85d81c",
   "metadata": {},
   "outputs": [],
   "source": [
    "neighbors=[1,4,5,2,3]\n",
    "test=[]\n",
    "for i in [1,2]:\n",
    "    if i in neighbors:\n",
    "        test.append(i)\n",
    "        neighbors.remove(i)\n",
    "        "
   ]
  },
  {
   "cell_type": "code",
   "execution_count": 25,
   "id": "715a02bf",
   "metadata": {},
   "outputs": [
    {
     "name": "stdout",
     "output_type": "stream",
     "text": [
      "5\n",
      "5\n",
      "5\n"
     ]
    }
   ],
   "source": [
    "new_population=[1,5,2,3,4,5,6,7,8,5,9,10]\n",
    "neighbors=[1,2,3,4,5,6,7,8,9,10,5,5,11,12,13,14,15]\n",
    "test=[]\n",
    "for i in new_population:\n",
    "    if i==5:\n",
    "        print(i)\n",
    "        test.append(i)\n",
    "        neighbors.remove(i)"
   ]
  },
  {
   "cell_type": "code",
   "execution_count": 30,
   "id": "eb4aeaac",
   "metadata": {},
   "outputs": [],
   "source": [
    "neighbors.remove(1)"
   ]
  },
  {
   "cell_type": "code",
   "execution_count": 50,
   "id": "b2956e7d",
   "metadata": {},
   "outputs": [],
   "source": [
    "neighbors=[1,1,2,3]\n",
    "for i in neighbors:\n",
    "    if i==1:\n",
    "        neighbors.remove(i)"
   ]
  },
  {
   "cell_type": "code",
   "execution_count": 51,
   "id": "4f8cbd05",
   "metadata": {},
   "outputs": [
    {
     "data": {
      "text/plain": [
       "[1, 2, 3]"
      ]
     },
     "execution_count": 51,
     "metadata": {},
     "output_type": "execute_result"
    }
   ],
   "source": [
    "neighbors"
   ]
  }
 ],
 "metadata": {
  "kernelspec": {
   "display_name": "urbsim",
   "language": "python",
   "name": "urbsim"
  },
  "language_info": {
   "codemirror_mode": {
    "name": "ipython",
    "version": 3
   },
   "file_extension": ".py",
   "mimetype": "text/x-python",
   "name": "python",
   "nbconvert_exporter": "python",
   "pygments_lexer": "ipython3",
   "version": "3.9.12"
  }
 },
 "nbformat": 4,
 "nbformat_minor": 5
}
